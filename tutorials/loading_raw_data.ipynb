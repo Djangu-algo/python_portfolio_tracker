{
 "metadata": {
  "language_info": {
   "codemirror_mode": {
    "name": "ipython",
    "version": 3
   },
   "file_extension": ".py",
   "mimetype": "text/x-python",
   "name": "python",
   "nbconvert_exporter": "python",
   "pygments_lexer": "ipython3",
   "version": "3.7.9-final"
  },
  "orig_nbformat": 2,
  "kernelspec": {
   "name": "Python 3.7.9 64-bit ('python_portfolio_tracker': conda)",
   "display_name": "Python 3.7.9 64-bit ('python_portfolio_tracker': conda)",
   "metadata": {
    "interpreter": {
     "hash": "acff9b00e12413ceba8f04d146d1e7d8c836677bab381050a2b1536c2da0c0a1"
    }
   }
  }
 },
 "nbformat": 4,
 "nbformat_minor": 2,
 "cells": [
  {
   "source": [
    "# Loading Portfolio data\n",
    "\n",
    "The `ppt/portfolio_analysis.py` file contains functions for predefined analyses, however, you can still using the `StockPriceLoader` and `CalculateStockValue` classes directly to load the raw data to do your own independant analysis.\n",
    "\n",
    "However, everyone's portfolio is unique and everyone has slightly different requirements for their analysis (one of the reasons for making this library!). \n",
    "\n",
    "This notebook explains how you can directly use the data loading classes which are wrapped within the main `Portfolio` object for low level access to the raw data."
   ],
   "cell_type": "markdown",
   "metadata": {}
  },
  {
   "cell_type": "code",
   "execution_count": 1,
   "metadata": {
    "tags": []
   },
   "outputs": [
    {
     "output_type": "display_data",
     "data": {
      "text/plain": "&lt;IPython.core.display.Javascript object&gt;",
      "application/javascript": "\n            setTimeout(function() {\n                var nbb_cell_id = 1;\n                var nbb_unformatted_code = \"%load_ext autoreload\\n%autoreload 2\\n\\n# !pip install nb_black\\n%load_ext nb_black\";\n                var nbb_formatted_code = \"%load_ext autoreload\\n%autoreload 2\\n\\n# !pip install nb_black\\n%load_ext nb_black\";\n                var nbb_cells = Jupyter.notebook.get_cells();\n                for (var i = 0; i < nbb_cells.length; ++i) {\n                    if (nbb_cells[i].input_prompt_number == nbb_cell_id) {\n                        if (nbb_cells[i].get_text() == nbb_unformatted_code) {\n                             nbb_cells[i].set_text(nbb_formatted_code);\n                        }\n                        break;\n                    }\n                }\n            }, 500);\n            "
     },
     "metadata": {}
    }
   ],
   "source": [
    "%load_ext autoreload\n",
    "%autoreload 2\n",
    "\n",
    "# !pip install nb_black\n",
    "%load_ext nb_black"
   ]
  },
  {
   "cell_type": "code",
   "execution_count": 2,
   "metadata": {},
   "outputs": [
    {
     "output_type": "display_data",
     "data": {
      "text/plain": "&lt;IPython.core.display.Javascript object&gt;",
      "application/javascript": "\n            setTimeout(function() {\n                var nbb_cell_id = 2;\n                var nbb_unformatted_code = \"import sys\\nsys.path.append(\\\"..\\\")\";\n                var nbb_formatted_code = \"import sys\\n\\nsys.path.append(\\\"..\\\")\";\n                var nbb_cells = Jupyter.notebook.get_cells();\n                for (var i = 0; i < nbb_cells.length; ++i) {\n                    if (nbb_cells[i].input_prompt_number == nbb_cell_id) {\n                        if (nbb_cells[i].get_text() == nbb_unformatted_code) {\n                             nbb_cells[i].set_text(nbb_formatted_code);\n                        }\n                        break;\n                    }\n                }\n            }, 500);\n            "
     },
     "metadata": {}
    }
   ],
   "source": [
    "import sys\n",
    "sys.path.append(\"..\")"
   ]
  },
  {
   "cell_type": "code",
   "execution_count": 3,
   "metadata": {
    "tags": []
   },
   "outputs": [
    {
     "output_type": "display_data",
     "data": {
      "text/plain": "&lt;IPython.core.display.Javascript object&gt;",
      "application/javascript": "\n            setTimeout(function() {\n                var nbb_cell_id = 3;\n                var nbb_unformatted_code = \"import pandas as pd\\nimport ffn\\n\\n%matplotlib inline\\nimport matplotlib.pyplot as plt\\nimport matplotlib.dates as mdates\\n\\nfrom ppt.data_loader import PositionLoader\\nfrom ppt.data_loader import StockPriceLoader\\nfrom ppt.data_loader import BenchMarkLoader\\nfrom ppt.data_loader import CurrencyLoader\\n\\nfrom utils import print_properties\";\n                var nbb_formatted_code = \"import pandas as pd\\nimport ffn\\n\\n%matplotlib inline\\nimport matplotlib.pyplot as plt\\nimport matplotlib.dates as mdates\\n\\nfrom ppt.data_loader import PositionLoader\\nfrom ppt.data_loader import StockPriceLoader\\nfrom ppt.data_loader import BenchMarkLoader\\nfrom ppt.data_loader import CurrencyLoader\\n\\nfrom utils import print_properties\";\n                var nbb_cells = Jupyter.notebook.get_cells();\n                for (var i = 0; i < nbb_cells.length; ++i) {\n                    if (nbb_cells[i].input_prompt_number == nbb_cell_id) {\n                        if (nbb_cells[i].get_text() == nbb_unformatted_code) {\n                             nbb_cells[i].set_text(nbb_formatted_code);\n                        }\n                        break;\n                    }\n                }\n            }, 500);\n            "
     },
     "metadata": {}
    }
   ],
   "source": [
    "import pandas as pd\n",
    "import ffn\n",
    "\n",
    "%matplotlib inline\n",
    "import matplotlib.pyplot as plt\n",
    "import matplotlib.dates as mdates\n",
    "\n",
    "from ppt.data_loader import PositionLoader\n",
    "from ppt.data_loader import StockPriceLoader\n",
    "from ppt.data_loader import BenchMarkLoader\n",
    "from ppt.data_loader import CurrencyLoader\n",
    "\n",
    "from utils import print_properties"
   ]
  },
  {
   "source": [
    "## Input data format\n",
    "\n",
    "See the `README` for explainations on the required data input format."
   ],
   "cell_type": "markdown",
   "metadata": {}
  },
  {
   "cell_type": "code",
   "execution_count": 4,
   "metadata": {
    "tags": []
   },
   "outputs": [
    {
     "output_type": "execute_result",
     "data": {
      "text/plain": "          date    action                      company yahoo_ticker currency  \\\n0   17/07/2019   CASH IN                         cash         cash      USD   \n1   17/07/2019       BUY                        Intel         INTC      USD   \n2   17/07/2019       BUY            Applied Materials         AMAT      USD   \n3   17/07/2019       BUY              MKS Instruments         MKSI      USD   \n4   17/07/2019       BUY                     Synopsys         SNPS      USD   \n5   17/07/2019       BUY                     SOXX ETF         SOXX      USD   \n6   18/07/2019       BUY                       Nvidia         NVDA      USD   \n7   24/07/2019       BUY               Tokyo Electron       8035.T      JPY   \n8   24/07/2019       BUY  BE Semiconductor Industries      BESI.AS      EUR   \n9   26/11/2019      SELL                       Nvidia         NVDA      USD   \n10  25/12/2019   CASH IN                         cash         cash      USD   \n11  25/03/2020       BUY                       Nvidia         NVDA      USD   \n12  25/05/2020  CASH OUT                         cash         cash      USD   \n\n    num_shares  stock_price_usd  trading_costs_usd  total_usd  \\\n0            0      100000.0000               0.00  100000.00   \n1          180          49.9100               4.95    8988.75   \n2          268          45.9151               4.95   12310.20   \n3          120          76.7449               4.95    9214.34   \n4           68         136.8084               4.95    9307.92   \n5           75         204.2607               4.95   15324.50   \n6           39         166.6700               4.95    6505.08   \n7          100         168.4135             126.31   16967.66   \n8          420          29.9253             100.00   12668.63   \n9            5         217.0000               4.95    1089.95   \n10           0       10000.0000               0.00   10000.00   \n11          10         205.7500               4.95    2062.45   \n12           0        5000.0000               0.00    5000.00   \n\n    total_shares_held  \n0                   0  \n1                 180  \n2                 268  \n3                 120  \n4                  68  \n5                  75  \n6                  39  \n7                 100  \n8                 420  \n9                  34  \n10                  0  \n11                 44  \n12                  0  ",
      "text/html": "<div>\n<style scoped>\n    .dataframe tbody tr th:only-of-type {\n        vertical-align: middle;\n    }\n\n    .dataframe tbody tr th {\n        vertical-align: top;\n    }\n\n    .dataframe thead th {\n        text-align: right;\n    }\n</style>\n<table border=\"1\" class=\"dataframe\">\n  <thead>\n    <tr style=\"text-align: right;\">\n      <th></th>\n      <th>date</th>\n      <th>action</th>\n      <th>company</th>\n      <th>yahoo_ticker</th>\n      <th>currency</th>\n      <th>num_shares</th>\n      <th>stock_price_usd</th>\n      <th>trading_costs_usd</th>\n      <th>total_usd</th>\n      <th>total_shares_held</th>\n    </tr>\n  </thead>\n  <tbody>\n    <tr>\n      <td>0</td>\n      <td>17/07/2019</td>\n      <td>CASH IN</td>\n      <td>cash</td>\n      <td>cash</td>\n      <td>USD</td>\n      <td>0</td>\n      <td>100000.0000</td>\n      <td>0.00</td>\n      <td>100000.00</td>\n      <td>0</td>\n    </tr>\n    <tr>\n      <td>1</td>\n      <td>17/07/2019</td>\n      <td>BUY</td>\n      <td>Intel</td>\n      <td>INTC</td>\n      <td>USD</td>\n      <td>180</td>\n      <td>49.9100</td>\n      <td>4.95</td>\n      <td>8988.75</td>\n      <td>180</td>\n    </tr>\n    <tr>\n      <td>2</td>\n      <td>17/07/2019</td>\n      <td>BUY</td>\n      <td>Applied Materials</td>\n      <td>AMAT</td>\n      <td>USD</td>\n      <td>268</td>\n      <td>45.9151</td>\n      <td>4.95</td>\n      <td>12310.20</td>\n      <td>268</td>\n    </tr>\n    <tr>\n      <td>3</td>\n      <td>17/07/2019</td>\n      <td>BUY</td>\n      <td>MKS Instruments</td>\n      <td>MKSI</td>\n      <td>USD</td>\n      <td>120</td>\n      <td>76.7449</td>\n      <td>4.95</td>\n      <td>9214.34</td>\n      <td>120</td>\n    </tr>\n    <tr>\n      <td>4</td>\n      <td>17/07/2019</td>\n      <td>BUY</td>\n      <td>Synopsys</td>\n      <td>SNPS</td>\n      <td>USD</td>\n      <td>68</td>\n      <td>136.8084</td>\n      <td>4.95</td>\n      <td>9307.92</td>\n      <td>68</td>\n    </tr>\n    <tr>\n      <td>5</td>\n      <td>17/07/2019</td>\n      <td>BUY</td>\n      <td>SOXX ETF</td>\n      <td>SOXX</td>\n      <td>USD</td>\n      <td>75</td>\n      <td>204.2607</td>\n      <td>4.95</td>\n      <td>15324.50</td>\n      <td>75</td>\n    </tr>\n    <tr>\n      <td>6</td>\n      <td>18/07/2019</td>\n      <td>BUY</td>\n      <td>Nvidia</td>\n      <td>NVDA</td>\n      <td>USD</td>\n      <td>39</td>\n      <td>166.6700</td>\n      <td>4.95</td>\n      <td>6505.08</td>\n      <td>39</td>\n    </tr>\n    <tr>\n      <td>7</td>\n      <td>24/07/2019</td>\n      <td>BUY</td>\n      <td>Tokyo Electron</td>\n      <td>8035.T</td>\n      <td>JPY</td>\n      <td>100</td>\n      <td>168.4135</td>\n      <td>126.31</td>\n      <td>16967.66</td>\n      <td>100</td>\n    </tr>\n    <tr>\n      <td>8</td>\n      <td>24/07/2019</td>\n      <td>BUY</td>\n      <td>BE Semiconductor Industries</td>\n      <td>BESI.AS</td>\n      <td>EUR</td>\n      <td>420</td>\n      <td>29.9253</td>\n      <td>100.00</td>\n      <td>12668.63</td>\n      <td>420</td>\n    </tr>\n    <tr>\n      <td>9</td>\n      <td>26/11/2019</td>\n      <td>SELL</td>\n      <td>Nvidia</td>\n      <td>NVDA</td>\n      <td>USD</td>\n      <td>5</td>\n      <td>217.0000</td>\n      <td>4.95</td>\n      <td>1089.95</td>\n      <td>34</td>\n    </tr>\n    <tr>\n      <td>10</td>\n      <td>25/12/2019</td>\n      <td>CASH IN</td>\n      <td>cash</td>\n      <td>cash</td>\n      <td>USD</td>\n      <td>0</td>\n      <td>10000.0000</td>\n      <td>0.00</td>\n      <td>10000.00</td>\n      <td>0</td>\n    </tr>\n    <tr>\n      <td>11</td>\n      <td>25/03/2020</td>\n      <td>BUY</td>\n      <td>Nvidia</td>\n      <td>NVDA</td>\n      <td>USD</td>\n      <td>10</td>\n      <td>205.7500</td>\n      <td>4.95</td>\n      <td>2062.45</td>\n      <td>44</td>\n    </tr>\n    <tr>\n      <td>12</td>\n      <td>25/05/2020</td>\n      <td>CASH OUT</td>\n      <td>cash</td>\n      <td>cash</td>\n      <td>USD</td>\n      <td>0</td>\n      <td>5000.0000</td>\n      <td>0.00</td>\n      <td>5000.00</td>\n      <td>0</td>\n    </tr>\n  </tbody>\n</table>\n</div>"
     },
     "metadata": {},
     "execution_count": 4
    },
    {
     "output_type": "display_data",
     "data": {
      "text/plain": "&lt;IPython.core.display.Javascript object&gt;",
      "application/javascript": "\n            setTimeout(function() {\n                var nbb_cell_id = 4;\n                var nbb_unformatted_code = \"# example input\\npd.read_csv(\\\"../data/raw/purchase_info.csv\\\")\";\n                var nbb_formatted_code = \"# example input\\npd.read_csv(\\\"../data/raw/purchase_info.csv\\\")\";\n                var nbb_cells = Jupyter.notebook.get_cells();\n                for (var i = 0; i < nbb_cells.length; ++i) {\n                    if (nbb_cells[i].input_prompt_number == nbb_cell_id) {\n                        if (nbb_cells[i].get_text() == nbb_unformatted_code) {\n                             nbb_cells[i].set_text(nbb_formatted_code);\n                        }\n                        break;\n                    }\n                }\n            }, 500);\n            "
     },
     "metadata": {}
    }
   ],
   "source": [
    "# example input\n",
    "pd.read_csv(\"../data/raw/purchase_info.csv\")"
   ]
  },
  {
   "source": [
    "## Load Positions\n",
    "\n",
    "The base case for all classes is `PositionLoader` this loads the raw input data and extracts some key information which is used by other classes to help with data processing"
   ],
   "cell_type": "markdown",
   "metadata": {}
  },
  {
   "cell_type": "code",
   "execution_count": 5,
   "metadata": {},
   "outputs": [
    {
     "output_type": "display_data",
     "data": {
      "text/plain": "&lt;IPython.core.display.Javascript object&gt;",
      "application/javascript": "\n            setTimeout(function() {\n                var nbb_cell_id = 5;\n                var nbb_unformatted_code = \"# automatically loads from default data location (../data/raw/purchase_info.csv)\\npositions = PositionLoader()\";\n                var nbb_formatted_code = \"# automatically loads from default data location (../data/raw/purchase_info.csv)\\npositions = PositionLoader()\";\n                var nbb_cells = Jupyter.notebook.get_cells();\n                for (var i = 0; i < nbb_cells.length; ++i) {\n                    if (nbb_cells[i].input_prompt_number == nbb_cell_id) {\n                        if (nbb_cells[i].get_text() == nbb_unformatted_code) {\n                             nbb_cells[i].set_text(nbb_formatted_code);\n                        }\n                        break;\n                    }\n                }\n            }, 500);\n            "
     },
     "metadata": {}
    }
   ],
   "source": [
    "# automatically loads from default data location (../data/raw/purchase_info.csv)\n",
    "positions = PositionLoader()"
   ]
  },
  {
   "cell_type": "code",
   "execution_count": 6,
   "metadata": {
    "tags": []
   },
   "outputs": [
    {
     "output_type": "stream",
     "name": "stdout",
     "text": "datetime_index\ninput_data_source\npositions\nstart_date\nstock_metadata\ntickers\n"
    },
    {
     "output_type": "display_data",
     "data": {
      "text/plain": "&lt;IPython.core.display.Javascript object&gt;",
      "application/javascript": "\n            setTimeout(function() {\n                var nbb_cell_id = 6;\n                var nbb_unformatted_code = \"#properties\\nprint_properties(positions)\";\n                var nbb_formatted_code = \"# properties\\nprint_properties(positions)\";\n                var nbb_cells = Jupyter.notebook.get_cells();\n                for (var i = 0; i < nbb_cells.length; ++i) {\n                    if (nbb_cells[i].input_prompt_number == nbb_cell_id) {\n                        if (nbb_cells[i].get_text() == nbb_unformatted_code) {\n                             nbb_cells[i].set_text(nbb_formatted_code);\n                        }\n                        break;\n                    }\n                }\n            }, 500);\n            "
     },
     "metadata": {}
    }
   ],
   "source": [
    "#properties\n",
    "print_properties(positions)"
   ]
  },
  {
   "cell_type": "code",
   "execution_count": 7,
   "metadata": {},
   "outputs": [
    {
     "output_type": "execute_result",
     "data": {
      "text/plain": "         date    action                      company yahoo_ticker currency  \\\n0  2019-07-17   CASH IN                         cash         cash      USD   \n1  2019-07-17       BUY                        Intel         INTC      USD   \n2  2019-07-17       BUY            Applied Materials         AMAT      USD   \n3  2019-07-17       BUY              MKS Instruments         MKSI      USD   \n4  2019-07-17       BUY                     Synopsys         SNPS      USD   \n5  2019-07-17       BUY                     SOXX ETF         SOXX      USD   \n6  2019-07-18       BUY                       Nvidia         NVDA      USD   \n7  2019-07-24       BUY               Tokyo Electron       8035.T      JPY   \n8  2019-07-24       BUY  BE Semiconductor Industries      BESI.AS      EUR   \n9  2019-11-26      SELL                       Nvidia         NVDA      USD   \n10 2019-12-25   CASH IN                         cash         cash      USD   \n11 2020-03-25       BUY                       Nvidia         NVDA      USD   \n12 2020-05-25  CASH OUT                         cash         cash      USD   \n\n    num_shares  stock_price_usd  trading_costs_usd  total_usd  \\\n0            0      100000.0000               0.00  100000.00   \n1          180          49.9100               4.95    8988.75   \n2          268          45.9151               4.95   12310.20   \n3          120          76.7449               4.95    9214.34   \n4           68         136.8084               4.95    9307.92   \n5           75         204.2607               4.95   15324.50   \n6           39         166.6700               4.95    6505.08   \n7          100         168.4135             126.31   16967.66   \n8          420          29.9253             100.00   12668.63   \n9            5         217.0000               4.95    1089.95   \n10           0       10000.0000               0.00   10000.00   \n11          10         205.7500               4.95    2062.45   \n12           0        5000.0000               0.00    5000.00   \n\n    total_shares_held  \n0                   0  \n1                 180  \n2                 268  \n3                 120  \n4                  68  \n5                  75  \n6                  39  \n7                 100  \n8                 420  \n9                  34  \n10                  0  \n11                 44  \n12                  0  ",
      "text/html": "<div>\n<style scoped>\n    .dataframe tbody tr th:only-of-type {\n        vertical-align: middle;\n    }\n\n    .dataframe tbody tr th {\n        vertical-align: top;\n    }\n\n    .dataframe thead th {\n        text-align: right;\n    }\n</style>\n<table border=\"1\" class=\"dataframe\">\n  <thead>\n    <tr style=\"text-align: right;\">\n      <th></th>\n      <th>date</th>\n      <th>action</th>\n      <th>company</th>\n      <th>yahoo_ticker</th>\n      <th>currency</th>\n      <th>num_shares</th>\n      <th>stock_price_usd</th>\n      <th>trading_costs_usd</th>\n      <th>total_usd</th>\n      <th>total_shares_held</th>\n    </tr>\n  </thead>\n  <tbody>\n    <tr>\n      <td>0</td>\n      <td>2019-07-17</td>\n      <td>CASH IN</td>\n      <td>cash</td>\n      <td>cash</td>\n      <td>USD</td>\n      <td>0</td>\n      <td>100000.0000</td>\n      <td>0.00</td>\n      <td>100000.00</td>\n      <td>0</td>\n    </tr>\n    <tr>\n      <td>1</td>\n      <td>2019-07-17</td>\n      <td>BUY</td>\n      <td>Intel</td>\n      <td>INTC</td>\n      <td>USD</td>\n      <td>180</td>\n      <td>49.9100</td>\n      <td>4.95</td>\n      <td>8988.75</td>\n      <td>180</td>\n    </tr>\n    <tr>\n      <td>2</td>\n      <td>2019-07-17</td>\n      <td>BUY</td>\n      <td>Applied Materials</td>\n      <td>AMAT</td>\n      <td>USD</td>\n      <td>268</td>\n      <td>45.9151</td>\n      <td>4.95</td>\n      <td>12310.20</td>\n      <td>268</td>\n    </tr>\n    <tr>\n      <td>3</td>\n      <td>2019-07-17</td>\n      <td>BUY</td>\n      <td>MKS Instruments</td>\n      <td>MKSI</td>\n      <td>USD</td>\n      <td>120</td>\n      <td>76.7449</td>\n      <td>4.95</td>\n      <td>9214.34</td>\n      <td>120</td>\n    </tr>\n    <tr>\n      <td>4</td>\n      <td>2019-07-17</td>\n      <td>BUY</td>\n      <td>Synopsys</td>\n      <td>SNPS</td>\n      <td>USD</td>\n      <td>68</td>\n      <td>136.8084</td>\n      <td>4.95</td>\n      <td>9307.92</td>\n      <td>68</td>\n    </tr>\n    <tr>\n      <td>5</td>\n      <td>2019-07-17</td>\n      <td>BUY</td>\n      <td>SOXX ETF</td>\n      <td>SOXX</td>\n      <td>USD</td>\n      <td>75</td>\n      <td>204.2607</td>\n      <td>4.95</td>\n      <td>15324.50</td>\n      <td>75</td>\n    </tr>\n    <tr>\n      <td>6</td>\n      <td>2019-07-18</td>\n      <td>BUY</td>\n      <td>Nvidia</td>\n      <td>NVDA</td>\n      <td>USD</td>\n      <td>39</td>\n      <td>166.6700</td>\n      <td>4.95</td>\n      <td>6505.08</td>\n      <td>39</td>\n    </tr>\n    <tr>\n      <td>7</td>\n      <td>2019-07-24</td>\n      <td>BUY</td>\n      <td>Tokyo Electron</td>\n      <td>8035.T</td>\n      <td>JPY</td>\n      <td>100</td>\n      <td>168.4135</td>\n      <td>126.31</td>\n      <td>16967.66</td>\n      <td>100</td>\n    </tr>\n    <tr>\n      <td>8</td>\n      <td>2019-07-24</td>\n      <td>BUY</td>\n      <td>BE Semiconductor Industries</td>\n      <td>BESI.AS</td>\n      <td>EUR</td>\n      <td>420</td>\n      <td>29.9253</td>\n      <td>100.00</td>\n      <td>12668.63</td>\n      <td>420</td>\n    </tr>\n    <tr>\n      <td>9</td>\n      <td>2019-11-26</td>\n      <td>SELL</td>\n      <td>Nvidia</td>\n      <td>NVDA</td>\n      <td>USD</td>\n      <td>5</td>\n      <td>217.0000</td>\n      <td>4.95</td>\n      <td>1089.95</td>\n      <td>34</td>\n    </tr>\n    <tr>\n      <td>10</td>\n      <td>2019-12-25</td>\n      <td>CASH IN</td>\n      <td>cash</td>\n      <td>cash</td>\n      <td>USD</td>\n      <td>0</td>\n      <td>10000.0000</td>\n      <td>0.00</td>\n      <td>10000.00</td>\n      <td>0</td>\n    </tr>\n    <tr>\n      <td>11</td>\n      <td>2020-03-25</td>\n      <td>BUY</td>\n      <td>Nvidia</td>\n      <td>NVDA</td>\n      <td>USD</td>\n      <td>10</td>\n      <td>205.7500</td>\n      <td>4.95</td>\n      <td>2062.45</td>\n      <td>44</td>\n    </tr>\n    <tr>\n      <td>12</td>\n      <td>2020-05-25</td>\n      <td>CASH OUT</td>\n      <td>cash</td>\n      <td>cash</td>\n      <td>USD</td>\n      <td>0</td>\n      <td>5000.0000</td>\n      <td>0.00</td>\n      <td>5000.00</td>\n      <td>0</td>\n    </tr>\n  </tbody>\n</table>\n</div>"
     },
     "metadata": {},
     "execution_count": 7
    },
    {
     "output_type": "display_data",
     "data": {
      "text/plain": "&lt;IPython.core.display.Javascript object&gt;",
      "application/javascript": "\n            setTimeout(function() {\n                var nbb_cell_id = 7;\n                var nbb_unformatted_code = \"# dataframe with input csv data\\npositions.positions\";\n                var nbb_formatted_code = \"# dataframe with input csv data\\npositions.positions\";\n                var nbb_cells = Jupyter.notebook.get_cells();\n                for (var i = 0; i < nbb_cells.length; ++i) {\n                    if (nbb_cells[i].input_prompt_number == nbb_cell_id) {\n                        if (nbb_cells[i].get_text() == nbb_unformatted_code) {\n                             nbb_cells[i].set_text(nbb_formatted_code);\n                        }\n                        break;\n                    }\n                }\n            }, 500);\n            "
     },
     "metadata": {}
    }
   ],
   "source": [
    "# dataframe with input csv data\n",
    "positions.positions"
   ]
  },
  {
   "cell_type": "code",
   "execution_count": 8,
   "metadata": {},
   "outputs": [
    {
     "output_type": "execute_result",
     "data": {
      "text/plain": "[&#39;INTC&#39;, &#39;AMAT&#39;, &#39;MKSI&#39;, &#39;SNPS&#39;, &#39;SOXX&#39;, &#39;NVDA&#39;, &#39;8035.T&#39;, &#39;BESI.AS&#39;]"
     },
     "metadata": {},
     "execution_count": 8
    },
    {
     "output_type": "display_data",
     "data": {
      "text/plain": "&lt;IPython.core.display.Javascript object&gt;",
      "application/javascript": "\n            setTimeout(function() {\n                var nbb_cell_id = 8;\n                var nbb_unformatted_code = \"#tickers\\npositions.tickers\";\n                var nbb_formatted_code = \"# tickers\\npositions.tickers\";\n                var nbb_cells = Jupyter.notebook.get_cells();\n                for (var i = 0; i < nbb_cells.length; ++i) {\n                    if (nbb_cells[i].input_prompt_number == nbb_cell_id) {\n                        if (nbb_cells[i].get_text() == nbb_unformatted_code) {\n                             nbb_cells[i].set_text(nbb_formatted_code);\n                        }\n                        break;\n                    }\n                }\n            }, 500);\n            "
     },
     "metadata": {}
    }
   ],
   "source": [
    "#tickers\n",
    "positions.tickers"
   ]
  },
  {
   "cell_type": "code",
   "execution_count": 9,
   "metadata": {},
   "outputs": [
    {
     "output_type": "execute_result",
     "data": {
      "text/plain": "{&#39;INTC&#39;: {&#39;company&#39;: &#39;Intel&#39;, &#39;currency&#39;: &#39;USD&#39;},\n &#39;AMAT&#39;: {&#39;company&#39;: &#39;Applied Materials&#39;, &#39;currency&#39;: &#39;USD&#39;},\n &#39;MKSI&#39;: {&#39;company&#39;: &#39;MKS Instruments&#39;, &#39;currency&#39;: &#39;USD&#39;},\n &#39;SNPS&#39;: {&#39;company&#39;: &#39;Synopsys&#39;, &#39;currency&#39;: &#39;USD&#39;},\n &#39;SOXX&#39;: {&#39;company&#39;: &#39;SOXX ETF&#39;, &#39;currency&#39;: &#39;USD&#39;},\n &#39;NVDA&#39;: {&#39;company&#39;: &#39;Nvidia&#39;, &#39;currency&#39;: &#39;USD&#39;},\n &#39;8035.T&#39;: {&#39;company&#39;: &#39;Tokyo Electron&#39;, &#39;currency&#39;: &#39;JPY&#39;},\n &#39;BESI.AS&#39;: {&#39;company&#39;: &#39;BE Semiconductor Industries&#39;, &#39;currency&#39;: &#39;EUR&#39;}}"
     },
     "metadata": {},
     "execution_count": 9
    },
    {
     "output_type": "display_data",
     "data": {
      "text/plain": "&lt;IPython.core.display.Javascript object&gt;",
      "application/javascript": "\n            setTimeout(function() {\n                var nbb_cell_id = 9;\n                var nbb_unformatted_code = \"#metadata\\npositions.stock_metadata\";\n                var nbb_formatted_code = \"# metadata\\npositions.stock_metadata\";\n                var nbb_cells = Jupyter.notebook.get_cells();\n                for (var i = 0; i < nbb_cells.length; ++i) {\n                    if (nbb_cells[i].input_prompt_number == nbb_cell_id) {\n                        if (nbb_cells[i].get_text() == nbb_unformatted_code) {\n                             nbb_cells[i].set_text(nbb_formatted_code);\n                        }\n                        break;\n                    }\n                }\n            }, 500);\n            "
     },
     "metadata": {}
    }
   ],
   "source": [
    "#metadata\n",
    "positions.stock_metadata"
   ]
  },
  {
   "source": [
    "## Load Stock Prices\n",
    "\n",
    "You are able to load a dataframe of daily closing stock prices for all stock tickers present in the `purchase_info.csv`, starting from the earliest date of your first position, using the `StockPriceLoader` class.\n",
    "\n",
    "Note the default location for the input data file is: `../data/raw/purchase_info.csv`, however, you can specify your own location using the `input_data_source` argument.\n",
    "\n",
    "The `StockPriceLoader` class uses the `ffn` library to load the stock prices for free from Yahoo ([see ffn library for more details](https://pmorissette.github.io/ffn/))."
   ],
   "cell_type": "markdown",
   "metadata": {}
  },
  {
   "cell_type": "code",
   "execution_count": 10,
   "metadata": {
    "tags": []
   },
   "outputs": [
    {
     "output_type": "display_data",
     "data": {
      "text/plain": "&lt;IPython.core.display.Javascript object&gt;",
      "application/javascript": "\n            setTimeout(function() {\n                var nbb_cell_id = 10;\n                var nbb_unformatted_code = \"# load stock prices of tickers in your purchase_info csv file\\nstock_prices = StockPriceLoader()\";\n                var nbb_formatted_code = \"# load stock prices of tickers in your purchase_info csv file\\nstock_prices = StockPriceLoader()\";\n                var nbb_cells = Jupyter.notebook.get_cells();\n                for (var i = 0; i < nbb_cells.length; ++i) {\n                    if (nbb_cells[i].input_prompt_number == nbb_cell_id) {\n                        if (nbb_cells[i].get_text() == nbb_unformatted_code) {\n                             nbb_cells[i].set_text(nbb_formatted_code);\n                        }\n                        break;\n                    }\n                }\n            }, 500);\n            "
     },
     "metadata": {}
    }
   ],
   "source": [
    "# load stock prices of tickers in your purchase_info csv file\n",
    "stock_prices = StockPriceLoader()"
   ]
  },
  {
   "cell_type": "code",
   "execution_count": 11,
   "metadata": {},
   "outputs": [
    {
     "output_type": "execute_result",
     "data": {
      "text/plain": "Tickers: [&#39;8035.T&#39;, &#39;AMAT&#39;, &#39;BESI.AS&#39;, &#39;INTC&#39;, &#39;MKSI&#39;, &#39;NVDA&#39;, &#39;SNPS&#39;, &#39;SOXX&#39;]\nStart Date: 2019-07-17 00:00:00"
     },
     "metadata": {},
     "execution_count": 11
    },
    {
     "output_type": "display_data",
     "data": {
      "text/plain": "&lt;IPython.core.display.Javascript object&gt;",
      "application/javascript": "\n            setTimeout(function() {\n                var nbb_cell_id = 11;\n                var nbb_unformatted_code = \"# __repr__ gives a list of tickers and the starting date\\nstock_prices\";\n                var nbb_formatted_code = \"# __repr__ gives a list of tickers and the starting date\\nstock_prices\";\n                var nbb_cells = Jupyter.notebook.get_cells();\n                for (var i = 0; i < nbb_cells.length; ++i) {\n                    if (nbb_cells[i].input_prompt_number == nbb_cell_id) {\n                        if (nbb_cells[i].get_text() == nbb_unformatted_code) {\n                             nbb_cells[i].set_text(nbb_formatted_code);\n                        }\n                        break;\n                    }\n                }\n            }, 500);\n            "
     },
     "metadata": {}
    }
   ],
   "source": [
    "# __repr__ gives a list of tickers and the starting date\n",
    "stock_prices"
   ]
  },
  {
   "cell_type": "code",
   "execution_count": 12,
   "metadata": {
    "tags": []
   },
   "outputs": [
    {
     "output_type": "stream",
     "name": "stdout",
     "text": "daily_stock_prices_local_currency\ndaily_stock_prices_usd\ndatetime_index\ninput_data_source\npositions\nstart_date\nstock_metadata\ntickers\n"
    },
    {
     "output_type": "display_data",
     "data": {
      "text/plain": "&lt;IPython.core.display.Javascript object&gt;",
      "application/javascript": "\n            setTimeout(function() {\n                var nbb_cell_id = 12;\n                var nbb_unformatted_code = \"print_properties(stock_prices)\";\n                var nbb_formatted_code = \"print_properties(stock_prices)\";\n                var nbb_cells = Jupyter.notebook.get_cells();\n                for (var i = 0; i < nbb_cells.length; ++i) {\n                    if (nbb_cells[i].input_prompt_number == nbb_cell_id) {\n                        if (nbb_cells[i].get_text() == nbb_unformatted_code) {\n                             nbb_cells[i].set_text(nbb_formatted_code);\n                        }\n                        break;\n                    }\n                }\n            }, 500);\n            "
     },
     "metadata": {}
    }
   ],
   "source": [
    "print_properties(stock_prices)"
   ]
  },
  {
   "source": [
    "The `StockPriceLoader` inherits the same properties from the `PositionLoader` seen above. There are two new properties: `daily_stock_prices_local_currency` and `daily_stock_prices_usd`. These are dataframes containing the daily stock prices for each ticker and the daily stock prices converted from the local currency to usd, starting from the earliest registered date in the input csv."
   ],
   "cell_type": "markdown",
   "metadata": {}
  },
  {
   "cell_type": "code",
   "execution_count": 13,
   "metadata": {},
   "outputs": [
    {
     "output_type": "execute_result",
     "data": {
      "text/plain": "                 INTC       AMAT       MKSI        SNPS        SOXX  \\\n2019-07-17  47.952766  45.377625  77.286873  135.750000  201.027237   \n2019-07-18  48.486755  47.292084  79.584183  136.039993  203.936676   \n2019-07-19  48.807159  46.938648  78.425613  134.990005  203.700790   \n2019-07-20  48.807159  46.938648  78.425613  134.990005  203.700790   \n2019-07-21  48.807159  46.938648  78.425613  134.990005  203.700790   \n2019-07-22  49.855732  49.805428  82.247879  135.419998  207.593140   \n2019-07-23  50.244091  50.099960  83.960953  136.160004  210.256882   \n2019-07-24  51.380039  51.189732  88.664520  137.619995  216.665527   \n2019-07-25  50.642159  49.893784  85.703758  137.500000  213.028702   \n2019-07-26  50.088745  49.815247  86.713776  137.089996  212.969757   \n\n                  NVDA        8035.T    BESI.AS  \n2019-07-17  169.188049  15937.312500  23.886831  \n2019-07-18  169.656601  15865.198242  23.770264  \n2019-07-19  167.921951  16418.076172  24.576529  \n2019-07-20  167.921951  16418.076172  24.576529  \n2019-07-21  167.921951  16418.076172  24.576529  \n2019-07-22  170.793091  16605.574219  25.557648  \n2019-07-23  175.119736  17110.376953  25.917067  \n2019-07-24  178.110519  17211.335938  26.801044  \n2019-07-25  172.846756  17836.328125  27.189606  \n2019-07-26  174.531570  17591.140625  26.985613  ",
      "text/html": "<div>\n<style scoped>\n    .dataframe tbody tr th:only-of-type {\n        vertical-align: middle;\n    }\n\n    .dataframe tbody tr th {\n        vertical-align: top;\n    }\n\n    .dataframe thead th {\n        text-align: right;\n    }\n</style>\n<table border=\"1\" class=\"dataframe\">\n  <thead>\n    <tr style=\"text-align: right;\">\n      <th></th>\n      <th>INTC</th>\n      <th>AMAT</th>\n      <th>MKSI</th>\n      <th>SNPS</th>\n      <th>SOXX</th>\n      <th>NVDA</th>\n      <th>8035.T</th>\n      <th>BESI.AS</th>\n    </tr>\n  </thead>\n  <tbody>\n    <tr>\n      <td>2019-07-17</td>\n      <td>47.952766</td>\n      <td>45.377625</td>\n      <td>77.286873</td>\n      <td>135.750000</td>\n      <td>201.027237</td>\n      <td>169.188049</td>\n      <td>15937.312500</td>\n      <td>23.886831</td>\n    </tr>\n    <tr>\n      <td>2019-07-18</td>\n      <td>48.486755</td>\n      <td>47.292084</td>\n      <td>79.584183</td>\n      <td>136.039993</td>\n      <td>203.936676</td>\n      <td>169.656601</td>\n      <td>15865.198242</td>\n      <td>23.770264</td>\n    </tr>\n    <tr>\n      <td>2019-07-19</td>\n      <td>48.807159</td>\n      <td>46.938648</td>\n      <td>78.425613</td>\n      <td>134.990005</td>\n      <td>203.700790</td>\n      <td>167.921951</td>\n      <td>16418.076172</td>\n      <td>24.576529</td>\n    </tr>\n    <tr>\n      <td>2019-07-20</td>\n      <td>48.807159</td>\n      <td>46.938648</td>\n      <td>78.425613</td>\n      <td>134.990005</td>\n      <td>203.700790</td>\n      <td>167.921951</td>\n      <td>16418.076172</td>\n      <td>24.576529</td>\n    </tr>\n    <tr>\n      <td>2019-07-21</td>\n      <td>48.807159</td>\n      <td>46.938648</td>\n      <td>78.425613</td>\n      <td>134.990005</td>\n      <td>203.700790</td>\n      <td>167.921951</td>\n      <td>16418.076172</td>\n      <td>24.576529</td>\n    </tr>\n    <tr>\n      <td>2019-07-22</td>\n      <td>49.855732</td>\n      <td>49.805428</td>\n      <td>82.247879</td>\n      <td>135.419998</td>\n      <td>207.593140</td>\n      <td>170.793091</td>\n      <td>16605.574219</td>\n      <td>25.557648</td>\n    </tr>\n    <tr>\n      <td>2019-07-23</td>\n      <td>50.244091</td>\n      <td>50.099960</td>\n      <td>83.960953</td>\n      <td>136.160004</td>\n      <td>210.256882</td>\n      <td>175.119736</td>\n      <td>17110.376953</td>\n      <td>25.917067</td>\n    </tr>\n    <tr>\n      <td>2019-07-24</td>\n      <td>51.380039</td>\n      <td>51.189732</td>\n      <td>88.664520</td>\n      <td>137.619995</td>\n      <td>216.665527</td>\n      <td>178.110519</td>\n      <td>17211.335938</td>\n      <td>26.801044</td>\n    </tr>\n    <tr>\n      <td>2019-07-25</td>\n      <td>50.642159</td>\n      <td>49.893784</td>\n      <td>85.703758</td>\n      <td>137.500000</td>\n      <td>213.028702</td>\n      <td>172.846756</td>\n      <td>17836.328125</td>\n      <td>27.189606</td>\n    </tr>\n    <tr>\n      <td>2019-07-26</td>\n      <td>50.088745</td>\n      <td>49.815247</td>\n      <td>86.713776</td>\n      <td>137.089996</td>\n      <td>212.969757</td>\n      <td>174.531570</td>\n      <td>17591.140625</td>\n      <td>26.985613</td>\n    </tr>\n  </tbody>\n</table>\n</div>"
     },
     "metadata": {},
     "execution_count": 13
    },
    {
     "output_type": "display_data",
     "data": {
      "text/plain": "&lt;IPython.core.display.Javascript object&gt;",
      "application/javascript": "\n            setTimeout(function() {\n                var nbb_cell_id = 13;\n                var nbb_unformatted_code = \"#local currencies\\nstock_prices.daily_stock_prices_local_currency.head(10)\";\n                var nbb_formatted_code = \"# local currencies\\nstock_prices.daily_stock_prices_local_currency.head(10)\";\n                var nbb_cells = Jupyter.notebook.get_cells();\n                for (var i = 0; i < nbb_cells.length; ++i) {\n                    if (nbb_cells[i].input_prompt_number == nbb_cell_id) {\n                        if (nbb_cells[i].get_text() == nbb_unformatted_code) {\n                             nbb_cells[i].set_text(nbb_formatted_code);\n                        }\n                        break;\n                    }\n                }\n            }, 500);\n            "
     },
     "metadata": {}
    }
   ],
   "source": [
    "#local currencies\n",
    "stock_prices.daily_stock_prices_local_currency.head(10)"
   ]
  },
  {
   "cell_type": "code",
   "execution_count": 14,
   "metadata": {},
   "outputs": [
    {
     "output_type": "execute_result",
     "data": {
      "text/plain": "                 INTC       AMAT       MKSI        SNPS        SOXX  \\\n2019-07-17  47.952766  45.377625  77.286873  135.750000  201.027237   \n2019-07-18  48.486755  47.292084  79.584183  136.039993  203.936676   \n2019-07-19  48.807159  46.938648  78.425613  134.990005  203.700790   \n2019-07-20  48.807159  46.938648  78.425613  134.990005  203.700790   \n2019-07-21  48.807159  46.938648  78.425613  134.990005  203.700790   \n2019-07-22  49.855732  49.805428  82.247879  135.419998  207.593140   \n2019-07-23  50.244091  50.099960  83.960953  136.160004  210.256882   \n2019-07-24  51.380039  51.189732  88.664520  137.619995  216.665527   \n2019-07-25  50.642159  49.893784  85.703758  137.500000  213.028702   \n2019-07-26  50.088745  49.815247  86.713776  137.089996  212.969757   \n\n                  NVDA      8035.T    BESI.AS  \n2019-07-17  169.188049  147.653842  26.824066  \n2019-07-18  169.656601  147.719278  26.768920  \n2019-07-19  167.921951  152.867069  27.676896  \n2019-07-20  167.921951  152.867069  27.676896  \n2019-07-21  167.921951  152.287146  27.570707  \n2019-07-22  170.793091  153.892107  28.640192  \n2019-07-23  175.119736  158.089805  28.900783  \n2019-07-24  178.110519  159.085810  29.862887  \n2019-07-25  172.846756  164.138990  30.305967  \n2019-07-26  174.531570  161.882650  30.078594  ",
      "text/html": "<div>\n<style scoped>\n    .dataframe tbody tr th:only-of-type {\n        vertical-align: middle;\n    }\n\n    .dataframe tbody tr th {\n        vertical-align: top;\n    }\n\n    .dataframe thead th {\n        text-align: right;\n    }\n</style>\n<table border=\"1\" class=\"dataframe\">\n  <thead>\n    <tr style=\"text-align: right;\">\n      <th></th>\n      <th>INTC</th>\n      <th>AMAT</th>\n      <th>MKSI</th>\n      <th>SNPS</th>\n      <th>SOXX</th>\n      <th>NVDA</th>\n      <th>8035.T</th>\n      <th>BESI.AS</th>\n    </tr>\n  </thead>\n  <tbody>\n    <tr>\n      <td>2019-07-17</td>\n      <td>47.952766</td>\n      <td>45.377625</td>\n      <td>77.286873</td>\n      <td>135.750000</td>\n      <td>201.027237</td>\n      <td>169.188049</td>\n      <td>147.653842</td>\n      <td>26.824066</td>\n    </tr>\n    <tr>\n      <td>2019-07-18</td>\n      <td>48.486755</td>\n      <td>47.292084</td>\n      <td>79.584183</td>\n      <td>136.039993</td>\n      <td>203.936676</td>\n      <td>169.656601</td>\n      <td>147.719278</td>\n      <td>26.768920</td>\n    </tr>\n    <tr>\n      <td>2019-07-19</td>\n      <td>48.807159</td>\n      <td>46.938648</td>\n      <td>78.425613</td>\n      <td>134.990005</td>\n      <td>203.700790</td>\n      <td>167.921951</td>\n      <td>152.867069</td>\n      <td>27.676896</td>\n    </tr>\n    <tr>\n      <td>2019-07-20</td>\n      <td>48.807159</td>\n      <td>46.938648</td>\n      <td>78.425613</td>\n      <td>134.990005</td>\n      <td>203.700790</td>\n      <td>167.921951</td>\n      <td>152.867069</td>\n      <td>27.676896</td>\n    </tr>\n    <tr>\n      <td>2019-07-21</td>\n      <td>48.807159</td>\n      <td>46.938648</td>\n      <td>78.425613</td>\n      <td>134.990005</td>\n      <td>203.700790</td>\n      <td>167.921951</td>\n      <td>152.287146</td>\n      <td>27.570707</td>\n    </tr>\n    <tr>\n      <td>2019-07-22</td>\n      <td>49.855732</td>\n      <td>49.805428</td>\n      <td>82.247879</td>\n      <td>135.419998</td>\n      <td>207.593140</td>\n      <td>170.793091</td>\n      <td>153.892107</td>\n      <td>28.640192</td>\n    </tr>\n    <tr>\n      <td>2019-07-23</td>\n      <td>50.244091</td>\n      <td>50.099960</td>\n      <td>83.960953</td>\n      <td>136.160004</td>\n      <td>210.256882</td>\n      <td>175.119736</td>\n      <td>158.089805</td>\n      <td>28.900783</td>\n    </tr>\n    <tr>\n      <td>2019-07-24</td>\n      <td>51.380039</td>\n      <td>51.189732</td>\n      <td>88.664520</td>\n      <td>137.619995</td>\n      <td>216.665527</td>\n      <td>178.110519</td>\n      <td>159.085810</td>\n      <td>29.862887</td>\n    </tr>\n    <tr>\n      <td>2019-07-25</td>\n      <td>50.642159</td>\n      <td>49.893784</td>\n      <td>85.703758</td>\n      <td>137.500000</td>\n      <td>213.028702</td>\n      <td>172.846756</td>\n      <td>164.138990</td>\n      <td>30.305967</td>\n    </tr>\n    <tr>\n      <td>2019-07-26</td>\n      <td>50.088745</td>\n      <td>49.815247</td>\n      <td>86.713776</td>\n      <td>137.089996</td>\n      <td>212.969757</td>\n      <td>174.531570</td>\n      <td>161.882650</td>\n      <td>30.078594</td>\n    </tr>\n  </tbody>\n</table>\n</div>"
     },
     "metadata": {},
     "execution_count": 14
    },
    {
     "output_type": "display_data",
     "data": {
      "text/plain": "&lt;IPython.core.display.Javascript object&gt;",
      "application/javascript": "\n            setTimeout(function() {\n                var nbb_cell_id = 14;\n                var nbb_unformatted_code = \"# converted to USD\\nstock_prices.daily_stock_prices_usd.head(10)\";\n                var nbb_formatted_code = \"# converted to USD\\nstock_prices.daily_stock_prices_usd.head(10)\";\n                var nbb_cells = Jupyter.notebook.get_cells();\n                for (var i = 0; i < nbb_cells.length; ++i) {\n                    if (nbb_cells[i].input_prompt_number == nbb_cell_id) {\n                        if (nbb_cells[i].get_text() == nbb_unformatted_code) {\n                             nbb_cells[i].set_text(nbb_formatted_code);\n                        }\n                        break;\n                    }\n                }\n            }, 500);\n            "
     },
     "metadata": {}
    }
   ],
   "source": [
    "# converted to USD\n",
    "stock_prices.daily_stock_prices_usd.head(10)"
   ]
  },
  {
   "source": [
    "This is the 'raw' data from which all further calculations are made. You can use these dataframe of stock prices for your own individual stock analysis."
   ],
   "cell_type": "markdown",
   "metadata": {}
  },
  {
   "cell_type": "code",
   "execution_count": 15,
   "metadata": {},
   "outputs": [
    {
     "output_type": "display_data",
     "data": {
      "text/plain": "&lt;Figure size 432x288 with 1 Axes&gt;",
      "image/svg+xml": "<?xml version=\"1.0\" encoding=\"utf-8\" standalone=\"no\"?>\n<!DOCTYPE svg PUBLIC \"-//W3C//DTD SVG 1.1//EN\"\n  \"http://www.w3.org/Graphics/SVG/1.1/DTD/svg11.dtd\">\n<!-- Created with matplotlib (https://matplotlib.org/) -->\n<svg height=\"274.834063pt\" version=\"1.1\" viewBox=\"0 0 395.353859 274.834063\" width=\"395.353859pt\" xmlns=\"http://www.w3.org/2000/svg\" xmlns:xlink=\"http://www.w3.org/1999/xlink\">\n <defs>\n  <style type=\"text/css\">\n*{stroke-linecap:butt;stroke-linejoin:round;white-space:pre;}\n  </style>\n </defs>\n <g id=\"figure_1\">\n  <g id=\"patch_1\">\n   <path d=\"M -0 274.834063 \nL 395.353859 274.834063 \nL 395.353859 0 \nL -0 0 \nz\n\" style=\"fill:none;\"/>\n  </g>\n  <g id=\"axes_1\">\n   <g id=\"patch_2\">\n    <path d=\"M 46.965625 239.758125 \nL 381.765625 239.758125 \nL 381.765625 22.318125 \nL 46.965625 22.318125 \nz\n\" style=\"fill:#ffffff;\"/>\n   </g>\n   <g id=\"matplotlib.axis_1\">\n    <g id=\"xtick_1\">\n     <g id=\"line2d_1\">\n      <defs>\n       <path d=\"M 0 0 \nL 0 3.5 \n\" id=\"m21930950e4\" style=\"stroke:#000000;stroke-width:0.8;\"/>\n      </defs>\n      <g>\n       <use style=\"stroke:#000000;stroke-width:0.8;\" x=\"46.965625\" xlink:href=\"#m21930950e4\" y=\"239.758125\"/>\n      </g>\n     </g>\n    </g>\n    <g id=\"xtick_2\">\n     <g id=\"line2d_2\">\n      <g>\n       <use style=\"stroke:#000000;stroke-width:0.8;\" x=\"104.144951\" xlink:href=\"#m21930950e4\" y=\"239.758125\"/>\n      </g>\n     </g>\n     <g id=\"text_1\">\n      <!-- Oct -->\n      <defs>\n       <path d=\"M 39.40625 66.21875 \nQ 28.65625 66.21875 22.328125 58.203125 \nQ 16.015625 50.203125 16.015625 36.375 \nQ 16.015625 22.609375 22.328125 14.59375 \nQ 28.65625 6.59375 39.40625 6.59375 \nQ 50.140625 6.59375 56.421875 14.59375 \nQ 62.703125 22.609375 62.703125 36.375 \nQ 62.703125 50.203125 56.421875 58.203125 \nQ 50.140625 66.21875 39.40625 66.21875 \nz\nM 39.40625 74.21875 \nQ 54.734375 74.21875 63.90625 63.9375 \nQ 73.09375 53.65625 73.09375 36.375 \nQ 73.09375 19.140625 63.90625 8.859375 \nQ 54.734375 -1.421875 39.40625 -1.421875 \nQ 24.03125 -1.421875 14.8125 8.828125 \nQ 5.609375 19.09375 5.609375 36.375 \nQ 5.609375 53.65625 14.8125 63.9375 \nQ 24.03125 74.21875 39.40625 74.21875 \nz\n\" id=\"DejaVuSans-79\"/>\n       <path d=\"M 48.78125 52.59375 \nL 48.78125 44.1875 \nQ 44.96875 46.296875 41.140625 47.34375 \nQ 37.3125 48.390625 33.40625 48.390625 \nQ 24.65625 48.390625 19.8125 42.84375 \nQ 14.984375 37.3125 14.984375 27.296875 \nQ 14.984375 17.28125 19.8125 11.734375 \nQ 24.65625 6.203125 33.40625 6.203125 \nQ 37.3125 6.203125 41.140625 7.25 \nQ 44.96875 8.296875 48.78125 10.40625 \nL 48.78125 2.09375 \nQ 45.015625 0.34375 40.984375 -0.53125 \nQ 36.96875 -1.421875 32.421875 -1.421875 \nQ 20.0625 -1.421875 12.78125 6.34375 \nQ 5.515625 14.109375 5.515625 27.296875 \nQ 5.515625 40.671875 12.859375 48.328125 \nQ 20.21875 56 33.015625 56 \nQ 37.15625 56 41.109375 55.140625 \nQ 45.0625 54.296875 48.78125 52.59375 \nz\n\" id=\"DejaVuSans-99\"/>\n       <path d=\"M 18.3125 70.21875 \nL 18.3125 54.6875 \nL 36.8125 54.6875 \nL 36.8125 47.703125 \nL 18.3125 47.703125 \nL 18.3125 18.015625 \nQ 18.3125 11.328125 20.140625 9.421875 \nQ 21.96875 7.515625 27.59375 7.515625 \nL 36.8125 7.515625 \nL 36.8125 0 \nL 27.59375 0 \nQ 17.1875 0 13.234375 3.875 \nQ 9.28125 7.765625 9.28125 18.015625 \nL 9.28125 47.703125 \nL 2.6875 47.703125 \nL 2.6875 54.6875 \nL 9.28125 54.6875 \nL 9.28125 70.21875 \nz\n\" id=\"DejaVuSans-116\"/>\n      </defs>\n      <g transform=\"translate(95.499638 254.356563)scale(0.1 -0.1)\">\n       <use xlink:href=\"#DejaVuSans-79\"/>\n       <use x=\"78.710938\" xlink:href=\"#DejaVuSans-99\"/>\n       <use x=\"133.691406\" xlink:href=\"#DejaVuSans-116\"/>\n      </g>\n     </g>\n    </g>\n    <g id=\"xtick_3\">\n     <g id=\"line2d_3\">\n      <g>\n       <use style=\"stroke:#000000;stroke-width:0.8;\" x=\"173.362029\" xlink:href=\"#m21930950e4\" y=\"239.758125\"/>\n      </g>\n     </g>\n     <g id=\"text_2\">\n      <!-- Jan -->\n      <defs>\n       <path d=\"M 9.8125 72.90625 \nL 19.671875 72.90625 \nL 19.671875 5.078125 \nQ 19.671875 -8.109375 14.671875 -14.0625 \nQ 9.671875 -20.015625 -1.421875 -20.015625 \nL -5.171875 -20.015625 \nL -5.171875 -11.71875 \nL -2.09375 -11.71875 \nQ 4.4375 -11.71875 7.125 -8.046875 \nQ 9.8125 -4.390625 9.8125 5.078125 \nz\n\" id=\"DejaVuSans-74\"/>\n       <path d=\"M 34.28125 27.484375 \nQ 23.390625 27.484375 19.1875 25 \nQ 14.984375 22.515625 14.984375 16.5 \nQ 14.984375 11.71875 18.140625 8.90625 \nQ 21.296875 6.109375 26.703125 6.109375 \nQ 34.1875 6.109375 38.703125 11.40625 \nQ 43.21875 16.703125 43.21875 25.484375 \nL 43.21875 27.484375 \nz\nM 52.203125 31.203125 \nL 52.203125 0 \nL 43.21875 0 \nL 43.21875 8.296875 \nQ 40.140625 3.328125 35.546875 0.953125 \nQ 30.953125 -1.421875 24.3125 -1.421875 \nQ 15.921875 -1.421875 10.953125 3.296875 \nQ 6 8.015625 6 15.921875 \nQ 6 25.140625 12.171875 29.828125 \nQ 18.359375 34.515625 30.609375 34.515625 \nL 43.21875 34.515625 \nL 43.21875 35.40625 \nQ 43.21875 41.609375 39.140625 45 \nQ 35.0625 48.390625 27.6875 48.390625 \nQ 23 48.390625 18.546875 47.265625 \nQ 14.109375 46.140625 10.015625 43.890625 \nL 10.015625 52.203125 \nQ 14.9375 54.109375 19.578125 55.046875 \nQ 24.21875 56 28.609375 56 \nQ 40.484375 56 46.34375 49.84375 \nQ 52.203125 43.703125 52.203125 31.203125 \nz\n\" id=\"DejaVuSans-97\"/>\n       <path d=\"M 54.890625 33.015625 \nL 54.890625 0 \nL 45.90625 0 \nL 45.90625 32.71875 \nQ 45.90625 40.484375 42.875 44.328125 \nQ 39.84375 48.1875 33.796875 48.1875 \nQ 26.515625 48.1875 22.3125 43.546875 \nQ 18.109375 38.921875 18.109375 30.90625 \nL 18.109375 0 \nL 9.078125 0 \nL 9.078125 54.6875 \nL 18.109375 54.6875 \nL 18.109375 46.1875 \nQ 21.34375 51.125 25.703125 53.5625 \nQ 30.078125 56 35.796875 56 \nQ 45.21875 56 50.046875 50.171875 \nQ 54.890625 44.34375 54.890625 33.015625 \nz\n\" id=\"DejaVuSans-110\"/>\n      </defs>\n      <g transform=\"translate(165.654217 254.356563)scale(0.1 -0.1)\">\n       <use xlink:href=\"#DejaVuSans-74\"/>\n       <use x=\"29.492188\" xlink:href=\"#DejaVuSans-97\"/>\n       <use x=\"90.771484\" xlink:href=\"#DejaVuSans-110\"/>\n      </g>\n      <!-- 2020 -->\n      <defs>\n       <path d=\"M 19.1875 8.296875 \nL 53.609375 8.296875 \nL 53.609375 0 \nL 7.328125 0 \nL 7.328125 8.296875 \nQ 12.9375 14.109375 22.625 23.890625 \nQ 32.328125 33.6875 34.8125 36.53125 \nQ 39.546875 41.84375 41.421875 45.53125 \nQ 43.3125 49.21875 43.3125 52.78125 \nQ 43.3125 58.59375 39.234375 62.25 \nQ 35.15625 65.921875 28.609375 65.921875 \nQ 23.96875 65.921875 18.8125 64.3125 \nQ 13.671875 62.703125 7.8125 59.421875 \nL 7.8125 69.390625 \nQ 13.765625 71.78125 18.9375 73 \nQ 24.125 74.21875 28.421875 74.21875 \nQ 39.75 74.21875 46.484375 68.546875 \nQ 53.21875 62.890625 53.21875 53.421875 \nQ 53.21875 48.921875 51.53125 44.890625 \nQ 49.859375 40.875 45.40625 35.40625 \nQ 44.1875 33.984375 37.640625 27.21875 \nQ 31.109375 20.453125 19.1875 8.296875 \nz\n\" id=\"DejaVuSans-50\"/>\n       <path d=\"M 31.78125 66.40625 \nQ 24.171875 66.40625 20.328125 58.90625 \nQ 16.5 51.421875 16.5 36.375 \nQ 16.5 21.390625 20.328125 13.890625 \nQ 24.171875 6.390625 31.78125 6.390625 \nQ 39.453125 6.390625 43.28125 13.890625 \nQ 47.125 21.390625 47.125 36.375 \nQ 47.125 51.421875 43.28125 58.90625 \nQ 39.453125 66.40625 31.78125 66.40625 \nz\nM 31.78125 74.21875 \nQ 44.046875 74.21875 50.515625 64.515625 \nQ 56.984375 54.828125 56.984375 36.375 \nQ 56.984375 17.96875 50.515625 8.265625 \nQ 44.046875 -1.421875 31.78125 -1.421875 \nQ 19.53125 -1.421875 13.0625 8.265625 \nQ 6.59375 17.96875 6.59375 36.375 \nQ 6.59375 54.828125 13.0625 64.515625 \nQ 19.53125 74.21875 31.78125 74.21875 \nz\n\" id=\"DejaVuSans-48\"/>\n      </defs>\n      <g transform=\"translate(160.637029 265.554375)scale(0.1 -0.1)\">\n       <use xlink:href=\"#DejaVuSans-50\"/>\n       <use x=\"63.623047\" xlink:href=\"#DejaVuSans-48\"/>\n       <use x=\"127.246094\" xlink:href=\"#DejaVuSans-50\"/>\n       <use x=\"190.869141\" xlink:href=\"#DejaVuSans-48\"/>\n      </g>\n     </g>\n    </g>\n    <g id=\"xtick_4\">\n     <g id=\"line2d_4\">\n      <g>\n       <use style=\"stroke:#000000;stroke-width:0.8;\" x=\"241.826749\" xlink:href=\"#m21930950e4\" y=\"239.758125\"/>\n      </g>\n     </g>\n     <g id=\"text_3\">\n      <!-- Apr -->\n      <defs>\n       <path d=\"M 34.1875 63.1875 \nL 20.796875 26.90625 \nL 47.609375 26.90625 \nz\nM 28.609375 72.90625 \nL 39.796875 72.90625 \nL 67.578125 0 \nL 57.328125 0 \nL 50.6875 18.703125 \nL 17.828125 18.703125 \nL 11.1875 0 \nL 0.78125 0 \nz\n\" id=\"DejaVuSans-65\"/>\n       <path d=\"M 18.109375 8.203125 \nL 18.109375 -20.796875 \nL 9.078125 -20.796875 \nL 9.078125 54.6875 \nL 18.109375 54.6875 \nL 18.109375 46.390625 \nQ 20.953125 51.265625 25.265625 53.625 \nQ 29.59375 56 35.59375 56 \nQ 45.5625 56 51.78125 48.09375 \nQ 58.015625 40.1875 58.015625 27.296875 \nQ 58.015625 14.40625 51.78125 6.484375 \nQ 45.5625 -1.421875 35.59375 -1.421875 \nQ 29.59375 -1.421875 25.265625 0.953125 \nQ 20.953125 3.328125 18.109375 8.203125 \nz\nM 48.6875 27.296875 \nQ 48.6875 37.203125 44.609375 42.84375 \nQ 40.53125 48.484375 33.40625 48.484375 \nQ 26.265625 48.484375 22.1875 42.84375 \nQ 18.109375 37.203125 18.109375 27.296875 \nQ 18.109375 17.390625 22.1875 11.75 \nQ 26.265625 6.109375 33.40625 6.109375 \nQ 40.53125 6.109375 44.609375 11.75 \nQ 48.6875 17.390625 48.6875 27.296875 \nz\n\" id=\"DejaVuSans-112\"/>\n       <path d=\"M 41.109375 46.296875 \nQ 39.59375 47.171875 37.8125 47.578125 \nQ 36.03125 48 33.890625 48 \nQ 26.265625 48 22.1875 43.046875 \nQ 18.109375 38.09375 18.109375 28.8125 \nL 18.109375 0 \nL 9.078125 0 \nL 9.078125 54.6875 \nL 18.109375 54.6875 \nL 18.109375 46.1875 \nQ 20.953125 51.171875 25.484375 53.578125 \nQ 30.03125 56 36.53125 56 \nQ 37.453125 56 38.578125 55.875 \nQ 39.703125 55.765625 41.0625 55.515625 \nz\n\" id=\"DejaVuSans-114\"/>\n      </defs>\n      <g transform=\"translate(233.176749 254.356563)scale(0.1 -0.1)\">\n       <use xlink:href=\"#DejaVuSans-65\"/>\n       <use x=\"68.408203\" xlink:href=\"#DejaVuSans-112\"/>\n       <use x=\"131.884766\" xlink:href=\"#DejaVuSans-114\"/>\n      </g>\n     </g>\n    </g>\n    <g id=\"xtick_5\">\n     <g id=\"line2d_5\">\n      <g>\n       <use style=\"stroke:#000000;stroke-width:0.8;\" x=\"310.291468\" xlink:href=\"#m21930950e4\" y=\"239.758125\"/>\n      </g>\n     </g>\n     <g id=\"text_4\">\n      <!-- Jul -->\n      <defs>\n       <path d=\"M 8.5 21.578125 \nL 8.5 54.6875 \nL 17.484375 54.6875 \nL 17.484375 21.921875 \nQ 17.484375 14.15625 20.5 10.265625 \nQ 23.53125 6.390625 29.59375 6.390625 \nQ 36.859375 6.390625 41.078125 11.03125 \nQ 45.3125 15.671875 45.3125 23.6875 \nL 45.3125 54.6875 \nL 54.296875 54.6875 \nL 54.296875 0 \nL 45.3125 0 \nL 45.3125 8.40625 \nQ 42.046875 3.421875 37.71875 1 \nQ 33.40625 -1.421875 27.6875 -1.421875 \nQ 18.265625 -1.421875 13.375 4.4375 \nQ 8.5 10.296875 8.5 21.578125 \nz\nM 31.109375 56 \nz\n\" id=\"DejaVuSans-117\"/>\n       <path d=\"M 9.421875 75.984375 \nL 18.40625 75.984375 \nL 18.40625 0 \nL 9.421875 0 \nz\n\" id=\"DejaVuSans-108\"/>\n      </defs>\n      <g transform=\"translate(304.258655 254.356563)scale(0.1 -0.1)\">\n       <use xlink:href=\"#DejaVuSans-74\"/>\n       <use x=\"29.492188\" xlink:href=\"#DejaVuSans-117\"/>\n       <use x=\"92.871094\" xlink:href=\"#DejaVuSans-108\"/>\n      </g>\n     </g>\n    </g>\n    <g id=\"xtick_6\">\n     <g id=\"line2d_6\">\n      <g>\n       <use style=\"stroke:#000000;stroke-width:0.8;\" x=\"379.508546\" xlink:href=\"#m21930950e4\" y=\"239.758125\"/>\n      </g>\n     </g>\n     <g id=\"text_5\">\n      <!-- Oct -->\n      <g transform=\"translate(370.863234 254.356563)scale(0.1 -0.1)\">\n       <use xlink:href=\"#DejaVuSans-79\"/>\n       <use x=\"78.710938\" xlink:href=\"#DejaVuSans-99\"/>\n       <use x=\"133.691406\" xlink:href=\"#DejaVuSans-116\"/>\n      </g>\n     </g>\n    </g>\n    <g id=\"xtick_7\">\n     <g id=\"line2d_7\">\n      <g>\n       <use style=\"stroke:#000000;stroke-width:0.8;\" x=\"381.765625\" xlink:href=\"#m21930950e4\" y=\"239.758125\"/>\n      </g>\n     </g>\n    </g>\n    <g id=\"xtick_8\">\n     <g id=\"line2d_8\">\n      <defs>\n       <path d=\"M 0 0 \nL 0 2 \n\" id=\"mae4b5366da\" style=\"stroke:#000000;stroke-width:0.6;\"/>\n      </defs>\n      <g>\n       <use style=\"stroke:#000000;stroke-width:0.6;\" x=\"58.251018\" xlink:href=\"#mae4b5366da\" y=\"239.758125\"/>\n      </g>\n     </g>\n    </g>\n    <g id=\"xtick_9\">\n     <g id=\"line2d_9\">\n      <g>\n       <use style=\"stroke:#000000;stroke-width:0.6;\" x=\"81.574164\" xlink:href=\"#mae4b5366da\" y=\"239.758125\"/>\n      </g>\n     </g>\n    </g>\n    <g id=\"xtick_10\">\n     <g id=\"line2d_10\">\n      <g>\n       <use style=\"stroke:#000000;stroke-width:0.6;\" x=\"127.468097\" xlink:href=\"#mae4b5366da\" y=\"239.758125\"/>\n      </g>\n     </g>\n    </g>\n    <g id=\"xtick_11\">\n     <g id=\"line2d_11\">\n      <g>\n       <use style=\"stroke:#000000;stroke-width:0.6;\" x=\"150.038883\" xlink:href=\"#mae4b5366da\" y=\"239.758125\"/>\n      </g>\n     </g>\n    </g>\n    <g id=\"xtick_12\">\n     <g id=\"line2d_12\">\n      <g>\n       <use style=\"stroke:#000000;stroke-width:0.6;\" x=\"196.685176\" xlink:href=\"#mae4b5366da\" y=\"239.758125\"/>\n      </g>\n     </g>\n    </g>\n    <g id=\"xtick_13\">\n     <g id=\"line2d_13\">\n      <g>\n       <use style=\"stroke:#000000;stroke-width:0.6;\" x=\"218.503603\" xlink:href=\"#mae4b5366da\" y=\"239.758125\"/>\n      </g>\n     </g>\n    </g>\n    <g id=\"xtick_14\">\n     <g id=\"line2d_14\">\n      <g>\n       <use style=\"stroke:#000000;stroke-width:0.6;\" x=\"264.397535\" xlink:href=\"#mae4b5366da\" y=\"239.758125\"/>\n      </g>\n     </g>\n    </g>\n    <g id=\"xtick_15\">\n     <g id=\"line2d_15\">\n      <g>\n       <use style=\"stroke:#000000;stroke-width:0.6;\" x=\"287.720681\" xlink:href=\"#mae4b5366da\" y=\"239.758125\"/>\n      </g>\n     </g>\n    </g>\n    <g id=\"xtick_16\">\n     <g id=\"line2d_16\">\n      <g>\n       <use style=\"stroke:#000000;stroke-width:0.6;\" x=\"333.614614\" xlink:href=\"#mae4b5366da\" y=\"239.758125\"/>\n      </g>\n     </g>\n    </g>\n    <g id=\"xtick_17\">\n     <g id=\"line2d_17\">\n      <g>\n       <use style=\"stroke:#000000;stroke-width:0.6;\" x=\"356.93776\" xlink:href=\"#mae4b5366da\" y=\"239.758125\"/>\n      </g>\n     </g>\n    </g>\n   </g>\n   <g id=\"matplotlib.axis_2\">\n    <g id=\"ytick_1\">\n     <g id=\"line2d_18\">\n      <defs>\n       <path d=\"M 0 0 \nL -3.5 0 \n\" id=\"m547390d9b9\" style=\"stroke:#000000;stroke-width:0.8;\"/>\n      </defs>\n      <g>\n       <use style=\"stroke:#000000;stroke-width:0.8;\" x=\"46.965625\" xlink:href=\"#m547390d9b9\" y=\"205.864901\"/>\n      </g>\n     </g>\n     <g id=\"text_6\">\n      <!-- 200 -->\n      <g transform=\"translate(20.878125 209.66412)scale(0.1 -0.1)\">\n       <use xlink:href=\"#DejaVuSans-50\"/>\n       <use x=\"63.623047\" xlink:href=\"#DejaVuSans-48\"/>\n       <use x=\"127.246094\" xlink:href=\"#DejaVuSans-48\"/>\n      </g>\n     </g>\n    </g>\n    <g id=\"ytick_2\">\n     <g id=\"line2d_19\">\n      <g>\n       <use style=\"stroke:#000000;stroke-width:0.8;\" x=\"46.965625\" xlink:href=\"#m547390d9b9\" y=\"159.413516\"/>\n      </g>\n     </g>\n     <g id=\"text_7\">\n      <!-- 300 -->\n      <defs>\n       <path d=\"M 40.578125 39.3125 \nQ 47.65625 37.796875 51.625 33 \nQ 55.609375 28.21875 55.609375 21.1875 \nQ 55.609375 10.40625 48.1875 4.484375 \nQ 40.765625 -1.421875 27.09375 -1.421875 \nQ 22.515625 -1.421875 17.65625 -0.515625 \nQ 12.796875 0.390625 7.625 2.203125 \nL 7.625 11.71875 \nQ 11.71875 9.328125 16.59375 8.109375 \nQ 21.484375 6.890625 26.8125 6.890625 \nQ 36.078125 6.890625 40.9375 10.546875 \nQ 45.796875 14.203125 45.796875 21.1875 \nQ 45.796875 27.640625 41.28125 31.265625 \nQ 36.765625 34.90625 28.71875 34.90625 \nL 20.21875 34.90625 \nL 20.21875 43.015625 \nL 29.109375 43.015625 \nQ 36.375 43.015625 40.234375 45.921875 \nQ 44.09375 48.828125 44.09375 54.296875 \nQ 44.09375 59.90625 40.109375 62.90625 \nQ 36.140625 65.921875 28.71875 65.921875 \nQ 24.65625 65.921875 20.015625 65.03125 \nQ 15.375 64.15625 9.8125 62.3125 \nL 9.8125 71.09375 \nQ 15.4375 72.65625 20.34375 73.4375 \nQ 25.25 74.21875 29.59375 74.21875 \nQ 40.828125 74.21875 47.359375 69.109375 \nQ 53.90625 64.015625 53.90625 55.328125 \nQ 53.90625 49.265625 50.4375 45.09375 \nQ 46.96875 40.921875 40.578125 39.3125 \nz\n\" id=\"DejaVuSans-51\"/>\n      </defs>\n      <g transform=\"translate(20.878125 163.212735)scale(0.1 -0.1)\">\n       <use xlink:href=\"#DejaVuSans-51\"/>\n       <use x=\"63.623047\" xlink:href=\"#DejaVuSans-48\"/>\n       <use x=\"127.246094\" xlink:href=\"#DejaVuSans-48\"/>\n      </g>\n     </g>\n    </g>\n    <g id=\"ytick_3\">\n     <g id=\"line2d_20\">\n      <g>\n       <use style=\"stroke:#000000;stroke-width:0.8;\" x=\"46.965625\" xlink:href=\"#m547390d9b9\" y=\"112.962132\"/>\n      </g>\n     </g>\n     <g id=\"text_8\">\n      <!-- 400 -->\n      <defs>\n       <path d=\"M 37.796875 64.3125 \nL 12.890625 25.390625 \nL 37.796875 25.390625 \nz\nM 35.203125 72.90625 \nL 47.609375 72.90625 \nL 47.609375 25.390625 \nL 58.015625 25.390625 \nL 58.015625 17.1875 \nL 47.609375 17.1875 \nL 47.609375 0 \nL 37.796875 0 \nL 37.796875 17.1875 \nL 4.890625 17.1875 \nL 4.890625 26.703125 \nz\n\" id=\"DejaVuSans-52\"/>\n      </defs>\n      <g transform=\"translate(20.878125 116.761351)scale(0.1 -0.1)\">\n       <use xlink:href=\"#DejaVuSans-52\"/>\n       <use x=\"63.623047\" xlink:href=\"#DejaVuSans-48\"/>\n       <use x=\"127.246094\" xlink:href=\"#DejaVuSans-48\"/>\n      </g>\n     </g>\n    </g>\n    <g id=\"ytick_4\">\n     <g id=\"line2d_21\">\n      <g>\n       <use style=\"stroke:#000000;stroke-width:0.8;\" x=\"46.965625\" xlink:href=\"#m547390d9b9\" y=\"66.510747\"/>\n      </g>\n     </g>\n     <g id=\"text_9\">\n      <!-- 500 -->\n      <defs>\n       <path d=\"M 10.796875 72.90625 \nL 49.515625 72.90625 \nL 49.515625 64.59375 \nL 19.828125 64.59375 \nL 19.828125 46.734375 \nQ 21.96875 47.46875 24.109375 47.828125 \nQ 26.265625 48.1875 28.421875 48.1875 \nQ 40.625 48.1875 47.75 41.5 \nQ 54.890625 34.8125 54.890625 23.390625 \nQ 54.890625 11.625 47.5625 5.09375 \nQ 40.234375 -1.421875 26.90625 -1.421875 \nQ 22.3125 -1.421875 17.546875 -0.640625 \nQ 12.796875 0.140625 7.71875 1.703125 \nL 7.71875 11.625 \nQ 12.109375 9.234375 16.796875 8.0625 \nQ 21.484375 6.890625 26.703125 6.890625 \nQ 35.15625 6.890625 40.078125 11.328125 \nQ 45.015625 15.765625 45.015625 23.390625 \nQ 45.015625 31 40.078125 35.4375 \nQ 35.15625 39.890625 26.703125 39.890625 \nQ 22.75 39.890625 18.8125 39.015625 \nQ 14.890625 38.140625 10.796875 36.28125 \nz\n\" id=\"DejaVuSans-53\"/>\n      </defs>\n      <g transform=\"translate(20.878125 70.309966)scale(0.1 -0.1)\">\n       <use xlink:href=\"#DejaVuSans-53\"/>\n       <use x=\"63.623047\" xlink:href=\"#DejaVuSans-48\"/>\n       <use x=\"127.246094\" xlink:href=\"#DejaVuSans-48\"/>\n      </g>\n     </g>\n    </g>\n    <g id=\"text_10\">\n     <!-- USD -->\n     <defs>\n      <path d=\"M 8.6875 72.90625 \nL 18.609375 72.90625 \nL 18.609375 28.609375 \nQ 18.609375 16.890625 22.84375 11.734375 \nQ 27.09375 6.59375 36.625 6.59375 \nQ 46.09375 6.59375 50.34375 11.734375 \nQ 54.59375 16.890625 54.59375 28.609375 \nL 54.59375 72.90625 \nL 64.5 72.90625 \nL 64.5 27.390625 \nQ 64.5 13.140625 57.4375 5.859375 \nQ 50.390625 -1.421875 36.625 -1.421875 \nQ 22.796875 -1.421875 15.734375 5.859375 \nQ 8.6875 13.140625 8.6875 27.390625 \nz\n\" id=\"DejaVuSans-85\"/>\n      <path d=\"M 53.515625 70.515625 \nL 53.515625 60.890625 \nQ 47.90625 63.578125 42.921875 64.890625 \nQ 37.9375 66.21875 33.296875 66.21875 \nQ 25.25 66.21875 20.875 63.09375 \nQ 16.5 59.96875 16.5 54.203125 \nQ 16.5 49.359375 19.40625 46.890625 \nQ 22.3125 44.4375 30.421875 42.921875 \nL 36.375 41.703125 \nQ 47.40625 39.59375 52.65625 34.296875 \nQ 57.90625 29 57.90625 20.125 \nQ 57.90625 9.515625 50.796875 4.046875 \nQ 43.703125 -1.421875 29.984375 -1.421875 \nQ 24.8125 -1.421875 18.96875 -0.25 \nQ 13.140625 0.921875 6.890625 3.21875 \nL 6.890625 13.375 \nQ 12.890625 10.015625 18.65625 8.296875 \nQ 24.421875 6.59375 29.984375 6.59375 \nQ 38.421875 6.59375 43.015625 9.90625 \nQ 47.609375 13.234375 47.609375 19.390625 \nQ 47.609375 24.75 44.3125 27.78125 \nQ 41.015625 30.8125 33.5 32.328125 \nL 27.484375 33.5 \nQ 16.453125 35.6875 11.515625 40.375 \nQ 6.59375 45.0625 6.59375 53.421875 \nQ 6.59375 63.09375 13.40625 68.65625 \nQ 20.21875 74.21875 32.171875 74.21875 \nQ 37.3125 74.21875 42.625 73.28125 \nQ 47.953125 72.359375 53.515625 70.515625 \nz\n\" id=\"DejaVuSans-83\"/>\n      <path d=\"M 19.671875 64.796875 \nL 19.671875 8.109375 \nL 31.59375 8.109375 \nQ 46.6875 8.109375 53.6875 14.9375 \nQ 60.6875 21.78125 60.6875 36.53125 \nQ 60.6875 51.171875 53.6875 57.984375 \nQ 46.6875 64.796875 31.59375 64.796875 \nz\nM 9.8125 72.90625 \nL 30.078125 72.90625 \nQ 51.265625 72.90625 61.171875 64.09375 \nQ 71.09375 55.28125 71.09375 36.53125 \nQ 71.09375 17.671875 61.125 8.828125 \nQ 51.171875 0 30.078125 0 \nL 9.8125 0 \nz\n\" id=\"DejaVuSans-68\"/>\n     </defs>\n     <g transform=\"translate(14.798438 141.721719)rotate(-90)scale(0.1 -0.1)\">\n      <use xlink:href=\"#DejaVuSans-85\"/>\n      <use x=\"73.193359\" xlink:href=\"#DejaVuSans-83\"/>\n      <use x=\"136.669922\" xlink:href=\"#DejaVuSans-68\"/>\n     </g>\n    </g>\n   </g>\n   <g id=\"line2d_22\">\n    <path clip-path=\"url(#p1279c0afcc)\" d=\"M 46.965625 220.177479 \nL 47.717985 219.95983 \nL 48.470344 220.765599 \nL 49.975063 220.765599 \nL 50.727423 219.431915 \nL 51.479782 217.422128 \nL 52.232142 216.032868 \nL 52.984501 218.477959 \nL 53.736861 217.695339 \nL 55.24158 217.695339 \nL 55.99394 217.811106 \nL 56.746299 217.519374 \nL 57.498659 220.635946 \nL 59.003378 224.122961 \nL 60.508097 224.122961 \nL 61.260456 228.939061 \nL 62.765176 227.503488 \nL 63.517535 225.479816 \nL 64.269895 227.3692 \nL 66.526973 227.3692 \nL 67.279333 226.503226 \nL 68.031692 229.272469 \nL 68.784052 229.874489 \nL 69.536412 224.877789 \nL 71.041131 224.877789 \nL 71.79349 219.681983 \nL 72.54585 221.029567 \nL 73.298209 219.473592 \nL 74.050569 219.357825 \nL 74.802928 223.544105 \nL 76.307647 223.544105 \nL 77.060007 222.150231 \nL 77.812367 223.84048 \nL 78.564726 224.035171 \nL 79.317086 221.355888 \nL 80.069445 221.119484 \nL 82.326524 221.119484 \nL 83.078883 222.667727 \nL 83.831243 220.540061 \nL 84.583603 215.45034 \nL 85.335962 215.955609 \nL 86.840681 215.955609 \nL 87.593041 215.098049 \nL 88.3454 213.855757 \nL 89.09776 213.322674 \nL 89.850119 213.350487 \nL 90.602479 214.430544 \nL 92.859558 214.430544 \nL 94.364277 215.339102 \nL 95.116636 216.748273 \nL 95.868996 218.718317 \nL 98.878434 218.792492 \nL 99.630794 216.150293 \nL 100.383153 216.562853 \nL 101.135513 219.149418 \nL 102.640232 219.149418 \nL 103.392591 218.078632 \nL 104.144951 218.111088 \nL 104.89731 218.556089 \nL 105.64967 214.722581 \nL 106.402029 214.416638 \nL 107.906749 214.416638 \nL 108.659108 213.322674 \nL 109.411468 216.613843 \nL 110.163827 215.000704 \nL 110.916187 213.925289 \nL 111.668546 212.553196 \nL 113.925625 212.553196 \nL 114.677985 207.741619 \nL 115.430344 208.742858 \nL 116.182704 208.705795 \nL 116.935063 210.46725 \nL 118.439782 210.46725 \nL 119.192142 207.90849 \nL 119.944501 207.90849 \nL 120.696861 208.334956 \nL 121.449221 207.514472 \nL 122.20158 203.954466 \nL 123.706299 203.954466 \nL 124.458659 202.911493 \nL 125.211018 204.705402 \nL 125.963378 204.668318 \nL 126.715737 205.586133 \nL 127.468097 204.858367 \nL 129.725176 204.858367 \nL 130.477535 201.604296 \nL 131.229895 202.522118 \nL 131.982254 202.192997 \nL 132.734614 202.452585 \nL 134.239333 202.452585 \nL 134.991692 202.267165 \nL 135.744052 201.604296 \nL 136.496412 202.086374 \nL 137.248771 201.520857 \nL 138.001131 204.116701 \nL 139.50585 204.116701 \nL 140.258209 200.366639 \nL 141.010569 202.35524 \nL 141.762928 200.876537 \nL 142.515288 201.34008 \nL 143.267647 201.010959 \nL 144.772367 201.010959 \nL 145.524726 196.227188 \nL 146.277086 198.178712 \nL 147.029445 197.529267 \nL 147.781805 197.529267 \nL 148.534164 198.225095 \nL 150.038883 198.225095 \nL 150.791243 201.699607 \nL 151.543603 202.437176 \nL 152.295962 201.620747 \nL 153.048322 201.936188 \nL 153.800681 200.345057 \nL 156.05776 200.345057 \nL 156.810119 199.505422 \nL 157.562479 197.946767 \nL 158.314838 194.824808 \nL 160.571917 194.861928 \nL 161.324277 194.323827 \nL 162.076636 192.867231 \nL 162.828996 192.301289 \nL 163.581355 189.541162 \nL 164.333715 187.72737 \nL 165.838434 187.72737 \nL 166.590794 187.9825 \nL 168.095513 188.075281 \nL 168.847872 188.075281 \nL 169.600232 188.887089 \nL 171.104951 188.887089 \nL 171.85731 190.997764 \nL 176.371468 190.997764 \nL 177.123827 188.798943 \nL 177.876187 187.467598 \nL 178.628546 187.258845 \nL 179.380906 186.034187 \nL 180.133265 185.431133 \nL 182.390344 185.431133 \nL 183.142704 184.058033 \nL 183.895063 184.851284 \nL 184.647423 183.292623 \nL 185.399782 183.13026 \nL 187.656861 183.13026 \nL 188.409221 183.751863 \nL 189.16158 182.745237 \nL 189.91394 181.469546 \nL 190.666299 182.573603 \nL 192.171018 182.573603 \nL 192.923378 187.34234 \nL 193.675737 183.737957 \nL 194.428097 184.865198 \nL 195.180456 184.739947 \nL 195.932816 189.091199 \nL 197.437535 189.091199 \nL 198.189895 187.282036 \nL 198.942254 184.127615 \nL 200.446973 180.824751 \nL 201.199333 182.058687 \nL 202.704052 182.058687 \nL 203.456412 176.779654 \nL 204.208771 176.779654 \nL 204.961131 172.340278 \nL 205.71349 173.156722 \nL 206.46585 164.338259 \nL 208.722928 164.338259 \nL 209.475288 161.193108 \nL 210.227647 152.782853 \nL 210.980007 155.56618 \nL 211.732367 162.35282 \nL 213.989445 162.35282 \nL 214.741805 177.206432 \nL 215.494164 174.608682 \nL 216.246524 181.520069 \nL 216.998883 173.411149 \nL 218.503603 173.411149 \nL 219.255962 170.459074 \nL 220.008322 175.35134 \nL 220.760681 166.708615 \nL 221.513041 171.916534 \nL 222.2654 175.281708 \nL 223.770119 175.281708 \nL 224.522479 184.84348 \nL 225.274838 177.583977 \nL 226.027198 184.365393 \nL 226.779558 198.364557 \nL 227.531917 186.978638 \nL 229.036636 186.978638 \nL 229.788996 207.606048 \nL 230.541355 197.918954 \nL 231.293715 204.62611 \nL 232.046074 199.914862 \nL 234.303153 199.914862 \nL 235.055513 200.044819 \nL 235.807872 183.107514 \nL 236.560232 184.759935 \nL 237.312591 179.366362 \nL 238.064951 181.459736 \nL 239.56967 181.459736 \nL 240.322029 175.490603 \nL 241.074389 176.414272 \nL 241.826749 185.943547 \nL 242.579108 180.18793 \nL 243.331468 185.553647 \nL 244.836187 185.553647 \nL 245.588546 174.186313 \nL 246.340906 178.535516 \nL 247.093265 174.859325 \nL 247.845625 176.715977 \nL 250.855063 176.715977 \nL 251.607423 166.968557 \nL 252.359782 168.412111 \nL 253.112142 161.978804 \nL 253.864501 163.083513 \nL 255.369221 163.083513 \nL 256.12158 165.529653 \nL 256.87394 173.671063 \nL 257.626299 165.947401 \nL 258.378659 166.940716 \nL 259.131018 164.350677 \nL 260.635737 164.350677 \nL 261.388097 160.87411 \nL 262.140456 163.529131 \nL 262.892816 163.529131 \nL 263.645176 163.102083 \nL 268.159333 163.102083 \nL 268.911692 157.258279 \nL 269.664052 153.716715 \nL 271.168771 153.716715 \nL 271.921131 149.019381 \nL 272.67349 153.902376 \nL 273.42585 154.32011 \nL 274.178209 149.669202 \nL 274.930569 141.123964 \nL 276.435288 141.123964 \nL 277.187647 136.305937 \nL 277.940007 135.280145 \nL 278.692367 132.225961 \nL 279.444726 135.841778 \nL 280.197086 131.181599 \nL 282.454164 131.181599 \nL 283.206524 136.909374 \nL 283.958883 140.483415 \nL 284.711243 141.193582 \nL 285.463603 133.98049 \nL 286.968322 133.98049 \nL 287.720681 135.266224 \nL 288.473041 134.913459 \nL 289.2254 135.94855 \nL 289.97776 135.929966 \nL 290.730119 133.078708 \nL 292.234838 133.078708 \nL 292.987198 135.214823 \nL 293.739558 130.738249 \nL 294.491917 124.780315 \nL 295.244277 135.377349 \nL 295.996636 132.846522 \nL 297.501355 132.846522 \nL 298.253715 128.365285 \nL 299.006074 130.320317 \nL 299.758434 127.209004 \nL 300.510794 127.543356 \nL 301.263153 126.739983 \nL 302.767872 126.739983 \nL 303.520232 121.808322 \nL 304.272591 123.233958 \nL 305.024951 127.21829 \nL 305.77731 122.490945 \nL 306.52967 128.713571 \nL 308.034389 128.713571 \nL 308.786749 127.877707 \nL 309.539108 122.34699 \nL 310.291468 121.747947 \nL 311.043827 120.220161 \nL 313.300906 120.220161 \nL 314.053265 116.003629 \nL 314.805625 115.399951 \nL 315.557985 109.0055 \nL 316.310344 103.563041 \nL 317.062704 104.115629 \nL 318.567423 104.115629 \nL 319.319782 112.047167 \nL 320.072142 106.014937 \nL 320.824501 108.796534 \nL 321.576861 110.514716 \nL 322.329221 109.27484 \nL 324.586299 109.27484 \nL 326.091018 104.867927 \nL 329.100456 104.867927 \nL 329.852816 105.188358 \nL 330.605176 109.014799 \nL 331.357535 104.37105 \nL 332.109895 101.612659 \nL 334.366973 101.598724 \nL 335.119333 94.252308 \nL 335.871692 90.212266 \nL 337.376412 88.210793 \nL 338.128771 90.736998 \nL 340.38585 90.736998 \nL 341.138209 97.228965 \nL 341.890569 86.265075 \nL 342.642928 86.213985 \nL 343.395288 83.966406 \nL 344.900007 83.966406 \nL 345.652367 69.607927 \nL 346.404726 71.024291 \nL 347.157086 73.295076 \nL 347.909445 73.248636 \nL 348.661805 63.1717 \nL 350.166524 63.1717 \nL 351.671243 61.93646 \nL 352.423603 61.509228 \nL 353.175962 64.197973 \nL 353.928322 54.548268 \nL 355.433041 54.548268 \nL 356.1854 50.3364 \nL 356.93776 41.965823 \nL 357.690119 32.201761 \nL 358.442479 56.932474 \nL 359.194838 64.234632 \nL 361.451917 64.234632 \nL 362.204277 77.417537 \nL 362.956636 62.515925 \nL 363.708996 70.008536 \nL 364.461355 72.744529 \nL 365.966074 72.744529 \nL 366.718434 59.594129 \nL 367.470794 57.387688 \nL 368.223153 66.241335 \nL 368.975513 67.188933 \nL 372.73731 67.188933 \nL 373.48967 73.501675 \nL 374.242029 69.334985 \nL 374.994389 59.56626 \nL 376.499108 59.56626 \nL 377.251468 56.57014 \nL 378.003827 53.025897 \nL 378.756187 47.3635 \nL 379.508546 45.802712 \nL 380.260906 56.063835 \nL 381.765625 56.063835 \nL 381.765625 56.063835 \n\" style=\"fill:none;stroke:#1f77b4;stroke-linecap:square;stroke-width:1.5;\"/>\n   </g>\n   <g id=\"patch_3\">\n    <path d=\"M 46.965625 239.758125 \nL 46.965625 22.318125 \n\" style=\"fill:none;stroke:#000000;stroke-linecap:square;stroke-linejoin:miter;stroke-width:0.8;\"/>\n   </g>\n   <g id=\"patch_4\">\n    <path d=\"M 381.765625 239.758125 \nL 381.765625 22.318125 \n\" style=\"fill:none;stroke:#000000;stroke-linecap:square;stroke-linejoin:miter;stroke-width:0.8;\"/>\n   </g>\n   <g id=\"patch_5\">\n    <path d=\"M 46.965625 239.758125 \nL 381.765625 239.758125 \n\" style=\"fill:none;stroke:#000000;stroke-linecap:square;stroke-linejoin:miter;stroke-width:0.8;\"/>\n   </g>\n   <g id=\"patch_6\">\n    <path d=\"M 46.965625 22.318125 \nL 381.765625 22.318125 \n\" style=\"fill:none;stroke:#000000;stroke-linecap:square;stroke-linejoin:miter;stroke-width:0.8;\"/>\n   </g>\n   <g id=\"text_11\">\n    <!-- Nvidia stock price -->\n    <defs>\n     <path d=\"M 9.8125 72.90625 \nL 23.09375 72.90625 \nL 55.421875 11.921875 \nL 55.421875 72.90625 \nL 64.984375 72.90625 \nL 64.984375 0 \nL 51.703125 0 \nL 19.390625 60.984375 \nL 19.390625 0 \nL 9.8125 0 \nz\n\" id=\"DejaVuSans-78\"/>\n     <path d=\"M 2.984375 54.6875 \nL 12.5 54.6875 \nL 29.59375 8.796875 \nL 46.6875 54.6875 \nL 56.203125 54.6875 \nL 35.6875 0 \nL 23.484375 0 \nz\n\" id=\"DejaVuSans-118\"/>\n     <path d=\"M 9.421875 54.6875 \nL 18.40625 54.6875 \nL 18.40625 0 \nL 9.421875 0 \nz\nM 9.421875 75.984375 \nL 18.40625 75.984375 \nL 18.40625 64.59375 \nL 9.421875 64.59375 \nz\n\" id=\"DejaVuSans-105\"/>\n     <path d=\"M 45.40625 46.390625 \nL 45.40625 75.984375 \nL 54.390625 75.984375 \nL 54.390625 0 \nL 45.40625 0 \nL 45.40625 8.203125 \nQ 42.578125 3.328125 38.25 0.953125 \nQ 33.9375 -1.421875 27.875 -1.421875 \nQ 17.96875 -1.421875 11.734375 6.484375 \nQ 5.515625 14.40625 5.515625 27.296875 \nQ 5.515625 40.1875 11.734375 48.09375 \nQ 17.96875 56 27.875 56 \nQ 33.9375 56 38.25 53.625 \nQ 42.578125 51.265625 45.40625 46.390625 \nz\nM 14.796875 27.296875 \nQ 14.796875 17.390625 18.875 11.75 \nQ 22.953125 6.109375 30.078125 6.109375 \nQ 37.203125 6.109375 41.296875 11.75 \nQ 45.40625 17.390625 45.40625 27.296875 \nQ 45.40625 37.203125 41.296875 42.84375 \nQ 37.203125 48.484375 30.078125 48.484375 \nQ 22.953125 48.484375 18.875 42.84375 \nQ 14.796875 37.203125 14.796875 27.296875 \nz\n\" id=\"DejaVuSans-100\"/>\n     <path id=\"DejaVuSans-32\"/>\n     <path d=\"M 44.28125 53.078125 \nL 44.28125 44.578125 \nQ 40.484375 46.53125 36.375 47.5 \nQ 32.28125 48.484375 27.875 48.484375 \nQ 21.1875 48.484375 17.84375 46.4375 \nQ 14.5 44.390625 14.5 40.28125 \nQ 14.5 37.15625 16.890625 35.375 \nQ 19.28125 33.59375 26.515625 31.984375 \nL 29.59375 31.296875 \nQ 39.15625 29.25 43.1875 25.515625 \nQ 47.21875 21.78125 47.21875 15.09375 \nQ 47.21875 7.46875 41.1875 3.015625 \nQ 35.15625 -1.421875 24.609375 -1.421875 \nQ 20.21875 -1.421875 15.453125 -0.5625 \nQ 10.6875 0.296875 5.421875 2 \nL 5.421875 11.28125 \nQ 10.40625 8.6875 15.234375 7.390625 \nQ 20.0625 6.109375 24.8125 6.109375 \nQ 31.15625 6.109375 34.5625 8.28125 \nQ 37.984375 10.453125 37.984375 14.40625 \nQ 37.984375 18.0625 35.515625 20.015625 \nQ 33.0625 21.96875 24.703125 23.78125 \nL 21.578125 24.515625 \nQ 13.234375 26.265625 9.515625 29.90625 \nQ 5.8125 33.546875 5.8125 39.890625 \nQ 5.8125 47.609375 11.28125 51.796875 \nQ 16.75 56 26.8125 56 \nQ 31.78125 56 36.171875 55.265625 \nQ 40.578125 54.546875 44.28125 53.078125 \nz\n\" id=\"DejaVuSans-115\"/>\n     <path d=\"M 30.609375 48.390625 \nQ 23.390625 48.390625 19.1875 42.75 \nQ 14.984375 37.109375 14.984375 27.296875 \nQ 14.984375 17.484375 19.15625 11.84375 \nQ 23.34375 6.203125 30.609375 6.203125 \nQ 37.796875 6.203125 41.984375 11.859375 \nQ 46.1875 17.53125 46.1875 27.296875 \nQ 46.1875 37.015625 41.984375 42.703125 \nQ 37.796875 48.390625 30.609375 48.390625 \nz\nM 30.609375 56 \nQ 42.328125 56 49.015625 48.375 \nQ 55.71875 40.765625 55.71875 27.296875 \nQ 55.71875 13.875 49.015625 6.21875 \nQ 42.328125 -1.421875 30.609375 -1.421875 \nQ 18.84375 -1.421875 12.171875 6.21875 \nQ 5.515625 13.875 5.515625 27.296875 \nQ 5.515625 40.765625 12.171875 48.375 \nQ 18.84375 56 30.609375 56 \nz\n\" id=\"DejaVuSans-111\"/>\n     <path d=\"M 9.078125 75.984375 \nL 18.109375 75.984375 \nL 18.109375 31.109375 \nL 44.921875 54.6875 \nL 56.390625 54.6875 \nL 27.390625 29.109375 \nL 57.625 0 \nL 45.90625 0 \nL 18.109375 26.703125 \nL 18.109375 0 \nL 9.078125 0 \nz\n\" id=\"DejaVuSans-107\"/>\n     <path d=\"M 56.203125 29.59375 \nL 56.203125 25.203125 \nL 14.890625 25.203125 \nQ 15.484375 15.921875 20.484375 11.0625 \nQ 25.484375 6.203125 34.421875 6.203125 \nQ 39.59375 6.203125 44.453125 7.46875 \nQ 49.3125 8.734375 54.109375 11.28125 \nL 54.109375 2.78125 \nQ 49.265625 0.734375 44.1875 -0.34375 \nQ 39.109375 -1.421875 33.890625 -1.421875 \nQ 20.796875 -1.421875 13.15625 6.1875 \nQ 5.515625 13.8125 5.515625 26.8125 \nQ 5.515625 40.234375 12.765625 48.109375 \nQ 20.015625 56 32.328125 56 \nQ 43.359375 56 49.78125 48.890625 \nQ 56.203125 41.796875 56.203125 29.59375 \nz\nM 47.21875 32.234375 \nQ 47.125 39.59375 43.09375 43.984375 \nQ 39.0625 48.390625 32.421875 48.390625 \nQ 24.90625 48.390625 20.390625 44.140625 \nQ 15.875 39.890625 15.1875 32.171875 \nz\n\" id=\"DejaVuSans-101\"/>\n    </defs>\n    <g transform=\"translate(160.83625 16.318125)scale(0.12 -0.12)\">\n     <use xlink:href=\"#DejaVuSans-78\"/>\n     <use x=\"74.804688\" xlink:href=\"#DejaVuSans-118\"/>\n     <use x=\"133.984375\" xlink:href=\"#DejaVuSans-105\"/>\n     <use x=\"161.767578\" xlink:href=\"#DejaVuSans-100\"/>\n     <use x=\"225.244141\" xlink:href=\"#DejaVuSans-105\"/>\n     <use x=\"253.027344\" xlink:href=\"#DejaVuSans-97\"/>\n     <use x=\"314.306641\" xlink:href=\"#DejaVuSans-32\"/>\n     <use x=\"346.09375\" xlink:href=\"#DejaVuSans-115\"/>\n     <use x=\"398.193359\" xlink:href=\"#DejaVuSans-116\"/>\n     <use x=\"437.402344\" xlink:href=\"#DejaVuSans-111\"/>\n     <use x=\"498.583984\" xlink:href=\"#DejaVuSans-99\"/>\n     <use x=\"553.564453\" xlink:href=\"#DejaVuSans-107\"/>\n     <use x=\"611.474609\" xlink:href=\"#DejaVuSans-32\"/>\n     <use x=\"643.261719\" xlink:href=\"#DejaVuSans-112\"/>\n     <use x=\"706.738281\" xlink:href=\"#DejaVuSans-114\"/>\n     <use x=\"747.851562\" xlink:href=\"#DejaVuSans-105\"/>\n     <use x=\"775.634766\" xlink:href=\"#DejaVuSans-99\"/>\n     <use x=\"830.615234\" xlink:href=\"#DejaVuSans-101\"/>\n    </g>\n   </g>\n  </g>\n </g>\n <defs>\n  <clipPath id=\"p1279c0afcc\">\n   <rect height=\"217.44\" width=\"334.8\" x=\"46.965625\" y=\"22.318125\"/>\n  </clipPath>\n </defs>\n</svg>\n",
      "image/png": "[encoded data removed]"
     },
     "metadata": {
      "needs_background": "light"
     }
    },
    {
     "output_type": "display_data",
     "data": {
      "text/plain": "&lt;IPython.core.display.Javascript object&gt;",
      "application/javascript": "\n            setTimeout(function() {\n                var nbb_cell_id = 15;\n                var nbb_unformatted_code = \"stock_prices.daily_stock_prices_local_currency['NVDA'].plot()\\nplt.title(\\\"Nvidia stock price\\\")\\nplt.ylabel(\\\"USD\\\")\\nplt.show()\";\n                var nbb_formatted_code = \"stock_prices.daily_stock_prices_local_currency[\\\"NVDA\\\"].plot()\\nplt.title(\\\"Nvidia stock price\\\")\\nplt.ylabel(\\\"USD\\\")\\nplt.show()\";\n                var nbb_cells = Jupyter.notebook.get_cells();\n                for (var i = 0; i < nbb_cells.length; ++i) {\n                    if (nbb_cells[i].input_prompt_number == nbb_cell_id) {\n                        if (nbb_cells[i].get_text() == nbb_unformatted_code) {\n                             nbb_cells[i].set_text(nbb_formatted_code);\n                        }\n                        break;\n                    }\n                }\n            }, 500);\n            "
     },
     "metadata": {}
    }
   ],
   "source": [
    "stock_prices.daily_stock_prices_local_currency['NVDA'].plot()\n",
    "plt.title(\"Nvidia stock price\")\n",
    "plt.ylabel(\"USD\")\n",
    "plt.show()\n"
   ]
  },
  {
   "source": [
    "## Benchmarks\n",
    "\n",
    "Sometimes you will want to benchmark your portfolio against indices or other instruments.\n",
    "\n",
    "The `BenchMarkLoader` inherits from `PositionLoader`\n",
    "\n",
    "A single benchmark passed as a string or a list of benchmarks can be passed to the function."
   ],
   "cell_type": "markdown",
   "metadata": {}
  },
  {
   "cell_type": "code",
   "execution_count": 16,
   "metadata": {
    "tags": []
   },
   "outputs": [
    {
     "output_type": "execute_result",
     "data": {
      "text/plain": "                  ^GSPC\n2019-07-17  2984.419922\n2019-07-18  2995.110107\n2019-07-19  2976.610107\n2019-07-20  2976.610107\n2019-07-21  2976.610107\n...                 ...\n2020-09-30  3363.000000\n2020-10-01  3380.800049\n2020-10-02  3348.419922\n2020-10-03  3348.419922\n2020-10-04  3348.419922\n\n[446 rows x 1 columns]",
      "text/html": "<div>\n<style scoped>\n    .dataframe tbody tr th:only-of-type {\n        vertical-align: middle;\n    }\n\n    .dataframe tbody tr th {\n        vertical-align: top;\n    }\n\n    .dataframe thead th {\n        text-align: right;\n    }\n</style>\n<table border=\"1\" class=\"dataframe\">\n  <thead>\n    <tr style=\"text-align: right;\">\n      <th></th>\n      <th>^GSPC</th>\n    </tr>\n  </thead>\n  <tbody>\n    <tr>\n      <td>2019-07-17</td>\n      <td>2984.419922</td>\n    </tr>\n    <tr>\n      <td>2019-07-18</td>\n      <td>2995.110107</td>\n    </tr>\n    <tr>\n      <td>2019-07-19</td>\n      <td>2976.610107</td>\n    </tr>\n    <tr>\n      <td>2019-07-20</td>\n      <td>2976.610107</td>\n    </tr>\n    <tr>\n      <td>2019-07-21</td>\n      <td>2976.610107</td>\n    </tr>\n    <tr>\n      <td>...</td>\n      <td>...</td>\n    </tr>\n    <tr>\n      <td>2020-09-30</td>\n      <td>3363.000000</td>\n    </tr>\n    <tr>\n      <td>2020-10-01</td>\n      <td>3380.800049</td>\n    </tr>\n    <tr>\n      <td>2020-10-02</td>\n      <td>3348.419922</td>\n    </tr>\n    <tr>\n      <td>2020-10-03</td>\n      <td>3348.419922</td>\n    </tr>\n    <tr>\n      <td>2020-10-04</td>\n      <td>3348.419922</td>\n    </tr>\n  </tbody>\n</table>\n<p>446 rows × 1 columns</p>\n</div>"
     },
     "metadata": {},
     "execution_count": 16
    },
    {
     "output_type": "display_data",
     "data": {
      "text/plain": "&lt;IPython.core.display.Javascript object&gt;",
      "application/javascript": "\n            setTimeout(function() {\n                var nbb_cell_id = 16;\n                var nbb_unformatted_code = \"# load SNP 500 \\nbenchmark = '^GSPC'\\nbm = BenchMarkLoader(benchmark_tickers=benchmark)\\nbm.benchmark_stock_prices\";\n                var nbb_formatted_code = \"# load SNP 500\\nbenchmark = \\\"^GSPC\\\"\\nbm = BenchMarkLoader(benchmark_tickers=benchmark)\\nbm.benchmark_stock_prices\";\n                var nbb_cells = Jupyter.notebook.get_cells();\n                for (var i = 0; i < nbb_cells.length; ++i) {\n                    if (nbb_cells[i].input_prompt_number == nbb_cell_id) {\n                        if (nbb_cells[i].get_text() == nbb_unformatted_code) {\n                             nbb_cells[i].set_text(nbb_formatted_code);\n                        }\n                        break;\n                    }\n                }\n            }, 500);\n            "
     },
     "metadata": {}
    }
   ],
   "source": [
    "# load SNP 500 \n",
    "benchmark = '^GSPC'\n",
    "bm = BenchMarkLoader(benchmark_tickers=benchmark)\n",
    "bm.benchmark_stock_prices"
   ]
  },
  {
   "cell_type": "code",
   "execution_count": 17,
   "metadata": {},
   "outputs": [
    {
     "output_type": "execute_result",
     "data": {
      "text/plain": "&#39;^GSPC&#39;"
     },
     "metadata": {},
     "execution_count": 17
    },
    {
     "output_type": "display_data",
     "data": {
      "text/plain": "&lt;IPython.core.display.Javascript object&gt;",
      "application/javascript": "\n            setTimeout(function() {\n                var nbb_cell_id = 17;\n                var nbb_unformatted_code = \"#list benchmarks\\nbm.benchmarks\";\n                var nbb_formatted_code = \"# list benchmarks\\nbm.benchmarks\";\n                var nbb_cells = Jupyter.notebook.get_cells();\n                for (var i = 0; i < nbb_cells.length; ++i) {\n                    if (nbb_cells[i].input_prompt_number == nbb_cell_id) {\n                        if (nbb_cells[i].get_text() == nbb_unformatted_code) {\n                             nbb_cells[i].set_text(nbb_formatted_code);\n                        }\n                        break;\n                    }\n                }\n            }, 500);\n            "
     },
     "metadata": {}
    }
   ],
   "source": [
    "#list benchmarks\n",
    "bm.benchmarks"
   ]
  },
  {
   "source": [
    "## Currency Loader\n",
    "\n",
    "Historical daily exchange rates are collected from yahoo finance."
   ],
   "cell_type": "markdown",
   "metadata": {}
  },
  {
   "cell_type": "code",
   "execution_count": 18,
   "metadata": {
    "tags": []
   },
   "outputs": [
    {
     "output_type": "stream",
     "name": "stdout",
     "text": "CURRENCIES\ncurrencies\ndatetime_index\ninput_data_source\npositions\nstart_date\nstock_metadata\ntickers\nxrates\n"
    },
    {
     "output_type": "display_data",
     "data": {
      "text/plain": "&lt;IPython.core.display.Javascript object&gt;",
      "application/javascript": "\n            setTimeout(function() {\n                var nbb_cell_id = 18;\n                var nbb_unformatted_code = \"cur = CurrencyLoader()\\n\\nprint_properties(cur)\";\n                var nbb_formatted_code = \"cur = CurrencyLoader()\\n\\nprint_properties(cur)\";\n                var nbb_cells = Jupyter.notebook.get_cells();\n                for (var i = 0; i < nbb_cells.length; ++i) {\n                    if (nbb_cells[i].input_prompt_number == nbb_cell_id) {\n                        if (nbb_cells[i].get_text() == nbb_unformatted_code) {\n                             nbb_cells[i].set_text(nbb_formatted_code);\n                        }\n                        break;\n                    }\n                }\n            }, 500);\n            "
     },
     "metadata": {}
    }
   ],
   "source": [
    "cur = CurrencyLoader()\n",
    "\n",
    "print_properties(cur)"
   ]
  },
  {
   "cell_type": "code",
   "execution_count": 19,
   "metadata": {},
   "outputs": [
    {
     "output_type": "execute_result",
     "data": {
      "text/plain": "[&#39;USD&#39;, &#39;JPY&#39;, &#39;EUR&#39;]"
     },
     "metadata": {},
     "execution_count": 19
    },
    {
     "output_type": "display_data",
     "data": {
      "text/plain": "&lt;IPython.core.display.Javascript object&gt;",
      "application/javascript": "\n            setTimeout(function() {\n                var nbb_cell_id = 19;\n                var nbb_unformatted_code = \"cur.currencies\";\n                var nbb_formatted_code = \"cur.currencies\";\n                var nbb_cells = Jupyter.notebook.get_cells();\n                for (var i = 0; i < nbb_cells.length; ++i) {\n                    if (nbb_cells[i].input_prompt_number == nbb_cell_id) {\n                        if (nbb_cells[i].get_text() == nbb_unformatted_code) {\n                             nbb_cells[i].set_text(nbb_formatted_code);\n                        }\n                        break;\n                    }\n                }\n            }, 500);\n            "
     },
     "metadata": {}
    }
   ],
   "source": [
    "cur.currencies"
   ]
  },
  {
   "cell_type": "code",
   "execution_count": 20,
   "metadata": {},
   "outputs": [
    {
     "output_type": "execute_result",
     "data": {
      "text/plain": "            USD       JPY       EUR\n2019-07-17  1.0  0.009265  1.122965\n2019-07-18  1.0  0.009311  1.126152\n2019-07-19  1.0  0.009311  1.126152\n2019-07-20  1.0  0.009311  1.126152\n2019-07-21  1.0  0.009276  1.121831\n...         ...       ...       ...\n2020-09-30  1.0  0.009483  1.172608\n2020-10-01  1.0  0.009475  1.174495\n2020-10-02  1.0  0.009475  1.174495\n2020-10-03  1.0  0.009475  1.174495\n2020-10-04  1.0  0.009475  1.174495\n\n[446 rows x 3 columns]",
      "text/html": "<div>\n<style scoped>\n    .dataframe tbody tr th:only-of-type {\n        vertical-align: middle;\n    }\n\n    .dataframe tbody tr th {\n        vertical-align: top;\n    }\n\n    .dataframe thead th {\n        text-align: right;\n    }\n</style>\n<table border=\"1\" class=\"dataframe\">\n  <thead>\n    <tr style=\"text-align: right;\">\n      <th></th>\n      <th>USD</th>\n      <th>JPY</th>\n      <th>EUR</th>\n    </tr>\n  </thead>\n  <tbody>\n    <tr>\n      <td>2019-07-17</td>\n      <td>1.0</td>\n      <td>0.009265</td>\n      <td>1.122965</td>\n    </tr>\n    <tr>\n      <td>2019-07-18</td>\n      <td>1.0</td>\n      <td>0.009311</td>\n      <td>1.126152</td>\n    </tr>\n    <tr>\n      <td>2019-07-19</td>\n      <td>1.0</td>\n      <td>0.009311</td>\n      <td>1.126152</td>\n    </tr>\n    <tr>\n      <td>2019-07-20</td>\n      <td>1.0</td>\n      <td>0.009311</td>\n      <td>1.126152</td>\n    </tr>\n    <tr>\n      <td>2019-07-21</td>\n      <td>1.0</td>\n      <td>0.009276</td>\n      <td>1.121831</td>\n    </tr>\n    <tr>\n      <td>...</td>\n      <td>...</td>\n      <td>...</td>\n      <td>...</td>\n    </tr>\n    <tr>\n      <td>2020-09-30</td>\n      <td>1.0</td>\n      <td>0.009483</td>\n      <td>1.172608</td>\n    </tr>\n    <tr>\n      <td>2020-10-01</td>\n      <td>1.0</td>\n      <td>0.009475</td>\n      <td>1.174495</td>\n    </tr>\n    <tr>\n      <td>2020-10-02</td>\n      <td>1.0</td>\n      <td>0.009475</td>\n      <td>1.174495</td>\n    </tr>\n    <tr>\n      <td>2020-10-03</td>\n      <td>1.0</td>\n      <td>0.009475</td>\n      <td>1.174495</td>\n    </tr>\n    <tr>\n      <td>2020-10-04</td>\n      <td>1.0</td>\n      <td>0.009475</td>\n      <td>1.174495</td>\n    </tr>\n  </tbody>\n</table>\n<p>446 rows × 3 columns</p>\n</div>"
     },
     "metadata": {},
     "execution_count": 20
    },
    {
     "output_type": "display_data",
     "data": {
      "text/plain": "&lt;IPython.core.display.Javascript object&gt;",
      "application/javascript": "\n            setTimeout(function() {\n                var nbb_cell_id = 20;\n                var nbb_unformatted_code = \"#daily exchange rates (including USD/USD)\\ncur.xrates\";\n                var nbb_formatted_code = \"# daily exchange rates (including USD/USD)\\ncur.xrates\";\n                var nbb_cells = Jupyter.notebook.get_cells();\n                for (var i = 0; i < nbb_cells.length; ++i) {\n                    if (nbb_cells[i].input_prompt_number == nbb_cell_id) {\n                        if (nbb_cells[i].get_text() == nbb_unformatted_code) {\n                             nbb_cells[i].set_text(nbb_formatted_code);\n                        }\n                        break;\n                    }\n                }\n            }, 500);\n            "
     },
     "metadata": {}
    }
   ],
   "source": [
    "#daily exchange rates (including USD/USD)\n",
    "cur.xrates"
   ]
  },
  {
   "cell_type": "code",
   "execution_count": null,
   "metadata": {},
   "outputs": [],
   "source": []
  }
 ]
}