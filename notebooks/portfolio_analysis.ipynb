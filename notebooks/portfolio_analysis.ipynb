{
 "metadata": {
  "language_info": {
   "codemirror_mode": {
    "name": "ipython",
    "version": 3
   },
   "file_extension": ".py",
   "mimetype": "text/x-python",
   "name": "python",
   "nbconvert_exporter": "python",
   "pygments_lexer": "ipython3",
   "version": "3.8.5-final"
  },
  "orig_nbformat": 2,
  "kernelspec": {
   "name": "Python 3.8.5 64-bit",
   "display_name": "Python 3.8.5 64-bit",
   "metadata": {
    "interpreter": {
     "hash": "acff9b00e12413ceba8f04d146d1e7d8c836677bab381050a2b1536c2da0c0a1"
    }
   }
  }
 },
 "nbformat": 4,
 "nbformat_minor": 2,
 "cells": [
  {
   "source": [
    "# Portfolio Analysis Tutorial\n",
    "\n",
    "This notebook will give an overview of how to load data from an input data source and analyse the portfolio."
   ],
   "cell_type": "markdown",
   "metadata": {}
  },
  {
   "cell_type": "code",
   "execution_count": 1,
   "metadata": {
    "tags": []
   },
   "outputs": [
    {
     "output_type": "display_data",
     "data": {
      "text/plain": "&lt;IPython.core.display.Javascript object&gt;",
      "application/javascript": "\n            setTimeout(function() {\n                var nbb_cell_id = 1;\n                var nbb_unformatted_code = \"%load_ext autoreload\\n%autoreload 2\\n\\n%matplotlib inline\\n\\n# !pip install nb_black\\n%load_ext nb_black\";\n                var nbb_formatted_code = \"%load_ext autoreload\\n%autoreload 2\\n\\n%matplotlib inline\\n\\n# !pip install nb_black\\n%load_ext nb_black\";\n                var nbb_cells = Jupyter.notebook.get_cells();\n                for (var i = 0; i < nbb_cells.length; ++i) {\n                    if (nbb_cells[i].input_prompt_number == nbb_cell_id) {\n                        if (nbb_cells[i].get_text() == nbb_unformatted_code) {\n                             nbb_cells[i].set_text(nbb_formatted_code);\n                        }\n                        break;\n                    }\n                }\n            }, 500);\n            "
     },
     "metadata": {}
    }
   ],
   "source": [
    "%load_ext autoreload\n",
    "%autoreload 2\n",
    "\n",
    "%matplotlib inline\n",
    "\n",
    "# !pip install nb_black\n",
    "%load_ext nb_black"
   ]
  },
  {
   "cell_type": "code",
   "execution_count": 2,
   "metadata": {},
   "outputs": [
    {
     "output_type": "display_data",
     "data": {
      "text/plain": "&lt;IPython.core.display.Javascript object&gt;",
      "application/javascript": "\n            setTimeout(function() {\n                var nbb_cell_id = 2;\n                var nbb_unformatted_code = \"import sys\\nsys.path.append(\\\"..\\\")\";\n                var nbb_formatted_code = \"import sys\\n\\nsys.path.append(\\\"..\\\")\";\n                var nbb_cells = Jupyter.notebook.get_cells();\n                for (var i = 0; i < nbb_cells.length; ++i) {\n                    if (nbb_cells[i].input_prompt_number == nbb_cell_id) {\n                        if (nbb_cells[i].get_text() == nbb_unformatted_code) {\n                             nbb_cells[i].set_text(nbb_formatted_code);\n                        }\n                        break;\n                    }\n                }\n            }, 500);\n            "
     },
     "metadata": {}
    }
   ],
   "source": [
    "import sys\n",
    "sys.path.append(\"..\")"
   ]
  },
  {
   "cell_type": "code",
   "execution_count": 3,
   "metadata": {
    "tags": []
   },
   "outputs": [
    {
     "output_type": "display_data",
     "data": {
      "text/plain": "&lt;IPython.core.display.Javascript object&gt;",
      "application/javascript": "\n            setTimeout(function() {\n                var nbb_cell_id = 3;\n                var nbb_unformatted_code = \"import pandas as pd\\nimport matplotlib.pyplot as plt\\nimport ffn\\n\\nfrom src.data_loader import StockPriceLoader\";\n                var nbb_formatted_code = \"import pandas as pd\\nimport matplotlib.pyplot as plt\\nimport ffn\\n\\nfrom src.data_loader import StockPriceLoader\";\n                var nbb_cells = Jupyter.notebook.get_cells();\n                for (var i = 0; i < nbb_cells.length; ++i) {\n                    if (nbb_cells[i].input_prompt_number == nbb_cell_id) {\n                        if (nbb_cells[i].get_text() == nbb_unformatted_code) {\n                             nbb_cells[i].set_text(nbb_formatted_code);\n                        }\n                        break;\n                    }\n                }\n            }, 500);\n            "
     },
     "metadata": {}
    }
   ],
   "source": [
    "import pandas as pd\n",
    "import matplotlib.pyplot as plt\n",
    "import ffn\n",
    "\n",
    "from src.data_loader import StockPriceLoader"
   ]
  },
  {
   "source": [
    "## Input data format\n",
    "\n",
    "The input for this analysis is a `csv` file containing rows for each purchase (or disposal) of a stock in your portfolio. An example is given in the `../data/raw/purchase_info.csv` in this repository."
   ],
   "cell_type": "markdown",
   "metadata": {}
  },
  {
   "cell_type": "code",
   "execution_count": 4,
   "metadata": {},
   "outputs": [
    {
     "output_type": "execute_result",
     "data": {
      "text/plain": "         date                      company yahoo_ticker currency  \\\n0  17/07/2019                       Nvidia         NVDA      USD   \n1  17/07/2019                        Intel         INTC      USD   \n2  17/07/2019            Applied Materials         AMAT      USD   \n3  17/07/2019              MKS Instruments         MKSI      USD   \n4  17/07/2019                     Synopsys         SNPS      USD   \n5  17/07/2019                     SOXX ETF         SOXX      USD   \n6  24/07/2019               Tokyo Electron       8035.T      JPY   \n7  24/07/2019  BE Semiconductor Industries      BESI.AS      EUR   \n\n   shares_purchased  purchase_price_usd  trading_costs_usd  total_cost_usd  \\\n0                39            166.6700               4.95         6505.08   \n1               180             49.9100               4.95         8988.75   \n2               268             45.9151               4.95        12310.20   \n3               120             76.7449               4.95         9214.34   \n4                68            136.8084               4.95         9307.92   \n5                75            204.2607               4.95        15324.50   \n6               100            168.4135             126.31        16967.66   \n7               420             29.9253             100.00        12668.63   \n\n   total_shares_held  \n0                 39  \n1                180  \n2                268  \n3                120  \n4                 68  \n5                 75  \n6                100  \n7                420  ",
      "text/html": "<div>\n<style scoped>\n    .dataframe tbody tr th:only-of-type {\n        vertical-align: middle;\n    }\n\n    .dataframe tbody tr th {\n        vertical-align: top;\n    }\n\n    .dataframe thead th {\n        text-align: right;\n    }\n</style>\n<table border=\"1\" class=\"dataframe\">\n  <thead>\n    <tr style=\"text-align: right;\">\n      <th></th>\n      <th>date</th>\n      <th>company</th>\n      <th>yahoo_ticker</th>\n      <th>currency</th>\n      <th>shares_purchased</th>\n      <th>purchase_price_usd</th>\n      <th>trading_costs_usd</th>\n      <th>total_cost_usd</th>\n      <th>total_shares_held</th>\n    </tr>\n  </thead>\n  <tbody>\n    <tr>\n      <th>0</th>\n      <td>17/07/2019</td>\n      <td>Nvidia</td>\n      <td>NVDA</td>\n      <td>USD</td>\n      <td>39</td>\n      <td>166.6700</td>\n      <td>4.95</td>\n      <td>6505.08</td>\n      <td>39</td>\n    </tr>\n    <tr>\n      <th>1</th>\n      <td>17/07/2019</td>\n      <td>Intel</td>\n      <td>INTC</td>\n      <td>USD</td>\n      <td>180</td>\n      <td>49.9100</td>\n      <td>4.95</td>\n      <td>8988.75</td>\n      <td>180</td>\n    </tr>\n    <tr>\n      <th>2</th>\n      <td>17/07/2019</td>\n      <td>Applied Materials</td>\n      <td>AMAT</td>\n      <td>USD</td>\n      <td>268</td>\n      <td>45.9151</td>\n      <td>4.95</td>\n      <td>12310.20</td>\n      <td>268</td>\n    </tr>\n    <tr>\n      <th>3</th>\n      <td>17/07/2019</td>\n      <td>MKS Instruments</td>\n      <td>MKSI</td>\n      <td>USD</td>\n      <td>120</td>\n      <td>76.7449</td>\n      <td>4.95</td>\n      <td>9214.34</td>\n      <td>120</td>\n    </tr>\n    <tr>\n      <th>4</th>\n      <td>17/07/2019</td>\n      <td>Synopsys</td>\n      <td>SNPS</td>\n      <td>USD</td>\n      <td>68</td>\n      <td>136.8084</td>\n      <td>4.95</td>\n      <td>9307.92</td>\n      <td>68</td>\n    </tr>\n    <tr>\n      <th>5</th>\n      <td>17/07/2019</td>\n      <td>SOXX ETF</td>\n      <td>SOXX</td>\n      <td>USD</td>\n      <td>75</td>\n      <td>204.2607</td>\n      <td>4.95</td>\n      <td>15324.50</td>\n      <td>75</td>\n    </tr>\n    <tr>\n      <th>6</th>\n      <td>24/07/2019</td>\n      <td>Tokyo Electron</td>\n      <td>8035.T</td>\n      <td>JPY</td>\n      <td>100</td>\n      <td>168.4135</td>\n      <td>126.31</td>\n      <td>16967.66</td>\n      <td>100</td>\n    </tr>\n    <tr>\n      <th>7</th>\n      <td>24/07/2019</td>\n      <td>BE Semiconductor Industries</td>\n      <td>BESI.AS</td>\n      <td>EUR</td>\n      <td>420</td>\n      <td>29.9253</td>\n      <td>100.00</td>\n      <td>12668.63</td>\n      <td>420</td>\n    </tr>\n  </tbody>\n</table>\n</div>"
     },
     "metadata": {},
     "execution_count": 4
    },
    {
     "output_type": "display_data",
     "data": {
      "text/plain": "&lt;IPython.core.display.Javascript object&gt;",
      "application/javascript": "\n            setTimeout(function() {\n                var nbb_cell_id = 4;\n                var nbb_unformatted_code = \"pd.read_csv(\\\"../data/raw/purchase_info.csv\\\")\";\n                var nbb_formatted_code = \"pd.read_csv(\\\"../data/raw/purchase_info.csv\\\")\";\n                var nbb_cells = Jupyter.notebook.get_cells();\n                for (var i = 0; i < nbb_cells.length; ++i) {\n                    if (nbb_cells[i].input_prompt_number == nbb_cell_id) {\n                        if (nbb_cells[i].get_text() == nbb_unformatted_code) {\n                             nbb_cells[i].set_text(nbb_formatted_code);\n                        }\n                        break;\n                    }\n                }\n            }, 500);\n            "
     },
     "metadata": {}
    }
   ],
   "source": [
    "pd.read_csv(\"../data/raw/purchase_info.csv\")"
   ]
  },
  {
   "source": [
    "## Load Stock Prices\n",
    "\n",
    "Load the daily closing stock prices for all stocks you have held starting from the earliest date.\n",
    "\n",
    "Note this assumes your input data file is stored in `../data/raw/purchase_info.csv`, however, you can specify your own location using the `input_data_source` argument.\n",
    "\n",
    "The `StockPriceLoader` class uses the `ffn` library to load the stock prices for free from Yahoo ([see ffn library for more details](https://pmorissette.github.io/ffn/))."
   ],
   "cell_type": "markdown",
   "metadata": {}
  },
  {
   "cell_type": "code",
   "execution_count": 5,
   "metadata": {
    "tags": []
   },
   "outputs": [
    {
     "output_type": "display_data",
     "data": {
      "text/plain": "&lt;IPython.core.display.Javascript object&gt;",
      "application/javascript": "\n            setTimeout(function() {\n                var nbb_cell_id = 5;\n                var nbb_unformatted_code = \"# load stock prices\\nprices = StockPriceLoader()\";\n                var nbb_formatted_code = \"# load stock prices\\nprices = StockPriceLoader()\";\n                var nbb_cells = Jupyter.notebook.get_cells();\n                for (var i = 0; i < nbb_cells.length; ++i) {\n                    if (nbb_cells[i].input_prompt_number == nbb_cell_id) {\n                        if (nbb_cells[i].get_text() == nbb_unformatted_code) {\n                             nbb_cells[i].set_text(nbb_formatted_code);\n                        }\n                        break;\n                    }\n                }\n            }, 500);\n            "
     },
     "metadata": {}
    }
   ],
   "source": [
    "# load stock prices\n",
    "prices = StockPriceLoader()"
   ]
  },
  {
   "cell_type": "code",
   "execution_count": 6,
   "metadata": {},
   "outputs": [
    {
     "output_type": "execute_result",
     "data": {
      "text/plain": "Tickers: [&#39;NVDA&#39;, &#39;INTC&#39;, &#39;AMAT&#39;, &#39;MKSI&#39;, &#39;SNPS&#39;, &#39;SOXX&#39;, &#39;8035.T&#39;, &#39;BESI.AS&#39;]\nStart Date: 2019-07-17 00:00:00"
     },
     "metadata": {},
     "execution_count": 6
    },
    {
     "output_type": "display_data",
     "data": {
      "text/plain": "&lt;IPython.core.display.Javascript object&gt;",
      "application/javascript": "\n            setTimeout(function() {\n                var nbb_cell_id = 6;\n                var nbb_unformatted_code = \"# __repr__\\nprices\";\n                var nbb_formatted_code = \"# __repr__\\nprices\";\n                var nbb_cells = Jupyter.notebook.get_cells();\n                for (var i = 0; i < nbb_cells.length; ++i) {\n                    if (nbb_cells[i].input_prompt_number == nbb_cell_id) {\n                        if (nbb_cells[i].get_text() == nbb_unformatted_code) {\n                             nbb_cells[i].set_text(nbb_formatted_code);\n                        }\n                        break;\n                    }\n                }\n            }, 500);\n            "
     },
     "metadata": {}
    }
   ],
   "source": [
    "# __repr__\n",
    "prices"
   ]
  },
  {
   "cell_type": "code",
   "execution_count": 7,
   "metadata": {
    "tags": []
   },
   "outputs": [
    {
     "output_type": "execute_result",
     "data": {
      "text/plain": "                  nvda       intc       amat       mksi        snps  \\\nDate                                                                  \n2019-07-17  169.188049  47.952766  45.377625  77.286873  135.750000   \n2019-07-18  169.656601  48.486755  47.292084  79.584183  136.039993   \n2019-07-19  167.921951  48.807159  46.938648  78.425613  134.990005   \n2019-07-22  170.793091  49.855732  49.805428  82.247879  135.419998   \n2019-07-23  175.119736  50.244091  50.099960  83.960953  136.160004   \n2019-07-24  178.110519  51.380039  51.189732  88.664520  137.619995   \n2019-07-25  172.846756  50.642159  49.893784  85.703758  137.500000   \n2019-07-26  174.531570  50.088745  49.815247  86.713776  137.089996   \n2019-07-29  174.282349  50.981976  49.746525  87.020744  136.210007   \n2019-07-30  174.910385  50.195541  49.805428  88.199112  135.369995   \n\n                  soxx         8035t     besias  \nDate                                             \n2019-07-17  201.027237  15937.312500  23.886831  \n2019-07-18  203.936676  15865.198242  23.770264  \n2019-07-19  203.700790  16418.076172  24.576529  \n2019-07-22  207.593140  16605.574219  25.557648  \n2019-07-23  210.256882  17110.376953  25.917067  \n2019-07-24  216.665527  17211.335938  26.801044  \n2019-07-25  213.028702  17836.328125  27.189606  \n2019-07-26  212.969757  17591.140625  26.985613  \n2019-07-29  213.549667  17451.716797  26.499910  \n2019-07-30  213.068039  17980.556641  26.033634  ",
      "text/html": "<div>\n<style scoped>\n    .dataframe tbody tr th:only-of-type {\n        vertical-align: middle;\n    }\n\n    .dataframe tbody tr th {\n        vertical-align: top;\n    }\n\n    .dataframe thead th {\n        text-align: right;\n    }\n</style>\n<table border=\"1\" class=\"dataframe\">\n  <thead>\n    <tr style=\"text-align: right;\">\n      <th></th>\n      <th>nvda</th>\n      <th>intc</th>\n      <th>amat</th>\n      <th>mksi</th>\n      <th>snps</th>\n      <th>soxx</th>\n      <th>8035t</th>\n      <th>besias</th>\n    </tr>\n    <tr>\n      <th>Date</th>\n      <th></th>\n      <th></th>\n      <th></th>\n      <th></th>\n      <th></th>\n      <th></th>\n      <th></th>\n      <th></th>\n    </tr>\n  </thead>\n  <tbody>\n    <tr>\n      <th>2019-07-17</th>\n      <td>169.188049</td>\n      <td>47.952766</td>\n      <td>45.377625</td>\n      <td>77.286873</td>\n      <td>135.750000</td>\n      <td>201.027237</td>\n      <td>15937.312500</td>\n      <td>23.886831</td>\n    </tr>\n    <tr>\n      <th>2019-07-18</th>\n      <td>169.656601</td>\n      <td>48.486755</td>\n      <td>47.292084</td>\n      <td>79.584183</td>\n      <td>136.039993</td>\n      <td>203.936676</td>\n      <td>15865.198242</td>\n      <td>23.770264</td>\n    </tr>\n    <tr>\n      <th>2019-07-19</th>\n      <td>167.921951</td>\n      <td>48.807159</td>\n      <td>46.938648</td>\n      <td>78.425613</td>\n      <td>134.990005</td>\n      <td>203.700790</td>\n      <td>16418.076172</td>\n      <td>24.576529</td>\n    </tr>\n    <tr>\n      <th>2019-07-22</th>\n      <td>170.793091</td>\n      <td>49.855732</td>\n      <td>49.805428</td>\n      <td>82.247879</td>\n      <td>135.419998</td>\n      <td>207.593140</td>\n      <td>16605.574219</td>\n      <td>25.557648</td>\n    </tr>\n    <tr>\n      <th>2019-07-23</th>\n      <td>175.119736</td>\n      <td>50.244091</td>\n      <td>50.099960</td>\n      <td>83.960953</td>\n      <td>136.160004</td>\n      <td>210.256882</td>\n      <td>17110.376953</td>\n      <td>25.917067</td>\n    </tr>\n    <tr>\n      <th>2019-07-24</th>\n      <td>178.110519</td>\n      <td>51.380039</td>\n      <td>51.189732</td>\n      <td>88.664520</td>\n      <td>137.619995</td>\n      <td>216.665527</td>\n      <td>17211.335938</td>\n      <td>26.801044</td>\n    </tr>\n    <tr>\n      <th>2019-07-25</th>\n      <td>172.846756</td>\n      <td>50.642159</td>\n      <td>49.893784</td>\n      <td>85.703758</td>\n      <td>137.500000</td>\n      <td>213.028702</td>\n      <td>17836.328125</td>\n      <td>27.189606</td>\n    </tr>\n    <tr>\n      <th>2019-07-26</th>\n      <td>174.531570</td>\n      <td>50.088745</td>\n      <td>49.815247</td>\n      <td>86.713776</td>\n      <td>137.089996</td>\n      <td>212.969757</td>\n      <td>17591.140625</td>\n      <td>26.985613</td>\n    </tr>\n    <tr>\n      <th>2019-07-29</th>\n      <td>174.282349</td>\n      <td>50.981976</td>\n      <td>49.746525</td>\n      <td>87.020744</td>\n      <td>136.210007</td>\n      <td>213.549667</td>\n      <td>17451.716797</td>\n      <td>26.499910</td>\n    </tr>\n    <tr>\n      <th>2019-07-30</th>\n      <td>174.910385</td>\n      <td>50.195541</td>\n      <td>49.805428</td>\n      <td>88.199112</td>\n      <td>135.369995</td>\n      <td>213.068039</td>\n      <td>17980.556641</td>\n      <td>26.033634</td>\n    </tr>\n  </tbody>\n</table>\n</div>"
     },
     "metadata": {},
     "execution_count": 7
    },
    {
     "output_type": "display_data",
     "data": {
      "text/plain": "&lt;IPython.core.display.Javascript object&gt;",
      "application/javascript": "\n            setTimeout(function() {\n                var nbb_cell_id = 7;\n                var nbb_unformatted_code = \"# show prices\\nprices.daily_stock_prices.head(10)\";\n                var nbb_formatted_code = \"# show prices\\nprices.daily_stock_prices.head(10)\";\n                var nbb_cells = Jupyter.notebook.get_cells();\n                for (var i = 0; i < nbb_cells.length; ++i) {\n                    if (nbb_cells[i].input_prompt_number == nbb_cell_id) {\n                        if (nbb_cells[i].get_text() == nbb_unformatted_code) {\n                             nbb_cells[i].set_text(nbb_formatted_code);\n                        }\n                        break;\n                    }\n                }\n            }, 500);\n            "
     },
     "metadata": {}
    }
   ],
   "source": [
    "# show prices\n",
    "prices.daily_stock_prices.head(10)"
   ]
  },
  {
   "cell_type": "code",
   "execution_count": 8,
   "metadata": {},
   "outputs": [
    {
     "output_type": "display_data",
     "data": {
      "text/plain": "&lt;IPython.core.display.Javascript object&gt;",
      "application/javascript": "\n            setTimeout(function() {\n                var nbb_cell_id = 8;\n                var nbb_unformatted_code = \"prices.daily_stock_prices['nvda'].plot()\\nplt.title(\\\"Nvidia stock price\\\")\\nplt.ylabel(\\\"USD\\\")\\nplt.show()\";\n                var nbb_formatted_code = \"prices.daily_stock_prices[\\\"nvda\\\"].plot()\\nplt.title(\\\"Nvidia stock price\\\")\\nplt.ylabel(\\\"USD\\\")\\nplt.show()\";\n                var nbb_cells = Jupyter.notebook.get_cells();\n                for (var i = 0; i < nbb_cells.length; ++i) {\n                    if (nbb_cells[i].input_prompt_number == nbb_cell_id) {\n                        if (nbb_cells[i].get_text() == nbb_unformatted_code) {\n                             nbb_cells[i].set_text(nbb_formatted_code);\n                        }\n                        break;\n                    }\n                }\n            }, 500);\n            "
     },
     "metadata": {}
    }
   ],
   "source": [
    "prices.daily_stock_prices['nvda'].plot()\n",
    "plt.title(\"Nvidia stock price\")\n",
    "plt.ylabel(\"USD\")\n",
    "plt.show()"
   ]
  },
  {
   "cell_type": "code",
   "execution_count": null,
   "metadata": {},
   "outputs": [],
   "source": []
  }
 ]
}